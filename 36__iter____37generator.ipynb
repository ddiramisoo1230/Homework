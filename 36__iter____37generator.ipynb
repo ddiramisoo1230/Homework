{
  "nbformat": 4,
  "nbformat_minor": 0,
  "metadata": {
    "colab": {
      "provenance": [],
      "authorship_tag": "ABX9TyMKwoua0NvKsDm331qSrHOq",
      "include_colab_link": true
    },
    "kernelspec": {
      "name": "python3",
      "display_name": "Python 3"
    },
    "language_info": {
      "name": "python"
    }
  },
  "cells": [
    {
      "cell_type": "markdown",
      "metadata": {
        "id": "view-in-github",
        "colab_type": "text"
      },
      "source": [
        "<a href=\"https://colab.research.google.com/github/ddiramisoo1230/Homework/blob/main/36__iter____37generator.ipynb\" target=\"_parent\"><img src=\"https://colab.research.google.com/assets/colab-badge.svg\" alt=\"Open In Colab\"/></a>"
      ]
    },
    {
      "cell_type": "code",
      "execution_count": null,
      "metadata": {
        "colab": {
          "base_uri": "https://localhost:8080/"
        },
        "id": "eVZ2I9OtN55s",
        "outputId": "34925799-1b49-4768-9284-b48cc31b90c5"
      },
      "outputs": [
        {
          "output_type": "stream",
          "name": "stdout",
          "text": [
            "0 1 2 3 4 "
          ]
        }
      ],
      "source": [
        "#36\n",
        "class MyRange:\n",
        "  def __init__(self,n):\n",
        "     self.maxn=n\n",
        "     self.current=0\n",
        "\n",
        "  def __iter__(self):\n",
        "     return self\n",
        "\n",
        "  def __next__(self):\n",
        "     if self.current>=self.maxn:\n",
        "       raise StopIteration\n",
        "     else:\n",
        "       ret=self.current\n",
        "       self.current+=1\n",
        "       return ret\n",
        "\n",
        "intList=MyRange(5)\n",
        "for i in intList:\n",
        "  print(i,end=' ')\n"
      ]
    },
    {
      "cell_type": "code",
      "source": [
        "#37\n",
        "def MyRange(n):\n",
        "  current=0\n",
        "  while current<n:\n",
        "    yield current\n",
        "    current+=1\n",
        "intList=MyRange(5)\n",
        "for i in intList:\n",
        "  print(i,end=' ')"
      ],
      "metadata": {
        "colab": {
          "base_uri": "https://localhost:8080/"
        },
        "id": "jTuAwh4JPayu",
        "outputId": "b01ee23b-1ab2-4f9d-bdab-efaa3c22dd29"
      },
      "execution_count": null,
      "outputs": [
        {
          "output_type": "stream",
          "name": "stdout",
          "text": [
            "0 1 2 3 4 "
          ]
        }
      ]
    }
  ]
}