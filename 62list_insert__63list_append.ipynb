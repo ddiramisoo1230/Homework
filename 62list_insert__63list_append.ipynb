{
  "nbformat": 4,
  "nbformat_minor": 0,
  "metadata": {
    "colab": {
      "provenance": [],
      "authorship_tag": "ABX9TyPQys7QWfSDlnkyI6+92n7h",
      "include_colab_link": true
    },
    "kernelspec": {
      "name": "python3",
      "display_name": "Python 3"
    },
    "language_info": {
      "name": "python"
    }
  },
  "cells": [
    {
      "cell_type": "markdown",
      "metadata": {
        "id": "view-in-github",
        "colab_type": "text"
      },
      "source": [
        "<a href=\"https://colab.research.google.com/github/ddiramisoo1230/Homework/blob/main/62list_insert__63list_append.ipynb\" target=\"_parent\"><img src=\"https://colab.research.google.com/assets/colab-badge.svg\" alt=\"Open In Colab\"/></a>"
      ]
    },
    {
      "cell_type": "code",
      "execution_count": null,
      "metadata": {
        "colab": {
          "base_uri": "https://localhost:8080/"
        },
        "id": "fTsodNEofUye",
        "outputId": "5b4c7688-d61f-42a1-b913-201db0c2b5b0"
      },
      "outputs": [
        {
          "output_type": "stream",
          "name": "stdout",
          "text": [
            "['목성', '토성', '천왕성', '해왕성']\n"
          ]
        }
      ],
      "source": [
        "#62\n",
        "outer_planets=['목성','천왕성','해왕성']\n",
        "pos=outer_planets.index('천왕성')\n",
        "outer_planets.insert(pos,'토성')\n",
        "print(outer_planets)"
      ]
    },
    {
      "cell_type": "code",
      "source": [
        "outer_planets.insert(-1,'명왕성')\n",
        "print(outer_planets)"
      ],
      "metadata": {
        "colab": {
          "base_uri": "https://localhost:8080/"
        },
        "id": "iYNckm69fwic",
        "outputId": "53cb76a8-ba0d-48e8-c0fd-be3dab03e431"
      },
      "execution_count": null,
      "outputs": [
        {
          "output_type": "stream",
          "name": "stdout",
          "text": [
            "['목성', '토성', '천왕성', '명왕성', '해왕성']\n"
          ]
        }
      ]
    },
    {
      "cell_type": "code",
      "source": [
        "outer_planets+['목성','토성','천왕성','해왕성']\n",
        "outer_planets.insert(len(outer_planets),'명왕성')\n",
        "print(outer_planets)"
      ],
      "metadata": {
        "colab": {
          "base_uri": "https://localhost:8080/"
        },
        "id": "vUIWatjPf3za",
        "outputId": "22f43458-8a0f-4eaa-fff5-51bdbd0f2012"
      },
      "execution_count": null,
      "outputs": [
        {
          "output_type": "stream",
          "name": "stdout",
          "text": [
            "['목성', '토성', '천왕성', '명왕성', '해왕성', '명왕성']\n"
          ]
        }
      ]
    },
    {
      "cell_type": "code",
      "source": [
        "#63\n",
        "fileList=[]\n",
        "for i in range(3):\n",
        "  fname=input(f'파일 이름을 입력하세요[{i+1}/3]:')\n",
        "  if fname not in fileList:\n",
        "    fileList.append(fname)\n",
        "  print(f'현재 저장된 파일들:{fileList}')"
      ],
      "metadata": {
        "colab": {
          "base_uri": "https://localhost:8080/"
        },
        "id": "uyBKoRM8gFic",
        "outputId": "2aa3f91d-a008-4913-e07d-8e642379cc84"
      },
      "execution_count": null,
      "outputs": [
        {
          "output_type": "stream",
          "name": "stdout",
          "text": [
            "파일 이름을 입력하세요[1/3]:'a.jpg'\n",
            "현재 저장된 파일들:[\"'a.jpg'\"]\n",
            "파일 이름을 입력하세요[2/3]:b.jpg\n",
            "현재 저장된 파일들:[\"'a.jpg'\", 'b.jpg']\n",
            "파일 이름을 입력하세요[3/3]:b.jpg\n",
            "현재 저장된 파일들:[\"'a.jpg'\", 'b.jpg']\n"
          ]
        }
      ]
    }
  ]
}