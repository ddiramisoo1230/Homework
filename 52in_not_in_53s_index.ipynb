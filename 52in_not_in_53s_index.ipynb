{
  "nbformat": 4,
  "nbformat_minor": 0,
  "metadata": {
    "colab": {
      "provenance": [],
      "authorship_tag": "ABX9TyMR6OtdGr+qZGtGoNqUh9z/",
      "include_colab_link": true
    },
    "kernelspec": {
      "name": "python3",
      "display_name": "Python 3"
    },
    "language_info": {
      "name": "python"
    }
  },
  "cells": [
    {
      "cell_type": "markdown",
      "metadata": {
        "id": "view-in-github",
        "colab_type": "text"
      },
      "source": [
        "<a href=\"https://colab.research.google.com/github/ddiramisoo1230/Homework/blob/main/52in_not_in_53s_index.ipynb\" target=\"_parent\"><img src=\"https://colab.research.google.com/assets/colab-badge.svg\" alt=\"Open In Colab\"/></a>"
      ]
    },
    {
      "cell_type": "code",
      "execution_count": null,
      "metadata": {
        "colab": {
          "base_uri": "https://localhost:8080/"
        },
        "id": "sboM1lBeGd76",
        "outputId": "6040908b-8783-4169-b4ee-2ec9952736a7"
      },
      "outputs": [
        {
          "output_type": "stream",
          "name": "stdout",
          "text": [
            "True\n"
          ]
        }
      ],
      "source": [
        "#52\n",
        "lyrics='A lot of things occur each day! every day!'\n",
        "flag='things' in lyrics\n",
        "print(flag)"
      ]
    },
    {
      "cell_type": "code",
      "source": [
        "lyrics='A lot of things occur each day! every day!'\n",
        "flag='today' not in lyrics\n",
        "print(flag)"
      ],
      "metadata": {
        "colab": {
          "base_uri": "https://localhost:8080/"
        },
        "id": "6X--3Rp8G03F",
        "outputId": "8f363be9-da92-4a81-b881-fc9772a1785b"
      },
      "execution_count": null,
      "outputs": [
        {
          "output_type": "stream",
          "name": "stdout",
          "text": [
            "True\n"
          ]
        }
      ]
    },
    {
      "cell_type": "code",
      "source": [
        "urlList=['url1','url2','url3']\n",
        "if 'url4' in urlList:\n",
        "  print('url4가 urlList의 요소로 존재합니다.')\n",
        "else:\n",
        "  print('url4가 urlList의 요소로 존재하지 않습니다.')\n",
        "\n"
      ],
      "metadata": {
        "colab": {
          "base_uri": "https://localhost:8080/"
        },
        "id": "cLVA-ZIEG_nx",
        "outputId": "d9808eba-a9a6-4cc6-ca08-084fbd0e97e3"
      },
      "execution_count": null,
      "outputs": [
        {
          "output_type": "stream",
          "name": "stdout",
          "text": [
            "url4가 urlList의 요소로 존재하지 않습니다.\n"
          ]
        }
      ]
    },
    {
      "cell_type": "code",
      "source": [
        "#53\n",
        "fruits=('사과','배','참외','수박','배','오렌지')\n",
        "pos=fruits.index('배')\n",
        "print(f'배는 {pos+1}번째 과일입니다.')"
      ],
      "metadata": {
        "colab": {
          "base_uri": "https://localhost:8080/"
        },
        "id": "YOehQwngHhCG",
        "outputId": "71d029db-9d8a-4801-979b-f2c0453c0182"
      },
      "execution_count": null,
      "outputs": [
        {
          "output_type": "stream",
          "name": "stdout",
          "text": [
            "배는 2번째 과일입니다.\n"
          ]
        }
      ]
    },
    {
      "cell_type": "code",
      "source": [
        "fruits=('사과','배','참외','수박','배','오렌지')\n",
        "pos = fruits.index('사과',3)\n",
        "print(f'사과는 {pos+1}번째 과일입니다.')"
      ],
      "metadata": {
        "colab": {
          "base_uri": "https://localhost:8080/",
          "height": 185
        },
        "id": "hXU0MtweH2iz",
        "outputId": "b2c6af34-0864-47a3-ef94-897dc43d5eb3"
      },
      "execution_count": null,
      "outputs": [
        {
          "output_type": "error",
          "ename": "ValueError",
          "evalue": "tuple.index(x): x not in tuple",
          "traceback": [
            "\u001b[0;31m---------------------------------------------------------------------------\u001b[0m",
            "\u001b[0;31mValueError\u001b[0m                                Traceback (most recent call last)",
            "\u001b[0;32m/tmp/ipython-input-473054517.py\u001b[0m in \u001b[0;36m<cell line: 0>\u001b[0;34m()\u001b[0m\n\u001b[1;32m      1\u001b[0m \u001b[0mfruits\u001b[0m\u001b[0;34m=\u001b[0m\u001b[0;34m(\u001b[0m\u001b[0;34m'사과'\u001b[0m\u001b[0;34m,\u001b[0m\u001b[0;34m'배'\u001b[0m\u001b[0;34m,\u001b[0m\u001b[0;34m'참외'\u001b[0m\u001b[0;34m,\u001b[0m\u001b[0;34m'수박'\u001b[0m\u001b[0;34m,\u001b[0m\u001b[0;34m'배'\u001b[0m\u001b[0;34m,\u001b[0m\u001b[0;34m'오렌지'\u001b[0m\u001b[0;34m)\u001b[0m\u001b[0;34m\u001b[0m\u001b[0;34m\u001b[0m\u001b[0m\n\u001b[0;32m----> 2\u001b[0;31m \u001b[0mpos\u001b[0m \u001b[0;34m=\u001b[0m \u001b[0mfruits\u001b[0m\u001b[0;34m.\u001b[0m\u001b[0mindex\u001b[0m\u001b[0;34m(\u001b[0m\u001b[0;34m'사과'\u001b[0m\u001b[0;34m,\u001b[0m\u001b[0;36m3\u001b[0m\u001b[0;34m)\u001b[0m\u001b[0;34m\u001b[0m\u001b[0;34m\u001b[0m\u001b[0m\n\u001b[0m\u001b[1;32m      3\u001b[0m \u001b[0mprint\u001b[0m\u001b[0;34m(\u001b[0m\u001b[0;34mf'사과는 {pos+1}번째 과일입니다.'\u001b[0m\u001b[0;34m)\u001b[0m\u001b[0;34m\u001b[0m\u001b[0;34m\u001b[0m\u001b[0m\n",
            "\u001b[0;31mValueError\u001b[0m: tuple.index(x): x not in tuple"
          ]
        }
      ]
    }
  ]
}