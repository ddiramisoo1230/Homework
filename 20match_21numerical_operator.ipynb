{
  "nbformat": 4,
  "nbformat_minor": 0,
  "metadata": {
    "colab": {
      "provenance": [],
      "authorship_tag": "ABX9TyNokJh7oNkPuttVYgGdAron",
      "include_colab_link": true
    },
    "kernelspec": {
      "name": "python3",
      "display_name": "Python 3"
    },
    "language_info": {
      "name": "python"
    }
  },
  "cells": [
    {
      "cell_type": "markdown",
      "metadata": {
        "id": "view-in-github",
        "colab_type": "text"
      },
      "source": [
        "<a href=\"https://colab.research.google.com/github/ddiramisoo1230/Homework/blob/main/20match_21numerical_operator.ipynb\" target=\"_parent\"><img src=\"https://colab.research.google.com/assets/colab-badge.svg\" alt=\"Open In Colab\"/></a>"
      ]
    },
    {
      "cell_type": "code",
      "execution_count": null,
      "metadata": {
        "colab": {
          "base_uri": "https://localhost:8080/"
        },
        "id": "nMbbhZRYlLBC",
        "outputId": "5e37debc-fa6d-410a-998a-1a559994abbb"
      },
      "outputs": [
        {
          "output_type": "stream",
          "name": "stdout",
          "text": [
            "Bad Request\n"
          ]
        }
      ],
      "source": [
        "#20\n",
        "http_status=400\n",
        "match http_status:\n",
        "   case 400:\n",
        "     print('Bad Request')\n",
        "   case 401:\n",
        "     print('Unauthorized')\n",
        "   case 403:\n",
        "     print('Forbidden')\n",
        "   case 404:\n",
        "     print('Not Found')\n",
        "   case _:\n",
        "     print('기타 인터넷 문제로 뭔가 잘못됨')"
      ]
    },
    {
      "cell_type": "code",
      "source": [
        "http_status=302\n",
        "match http_status:\n",
        "   case 200 | 202 | 203:\n",
        "     print('Succes')\n",
        "   case 301 | 302 | 303:\n",
        "     print('Redirection')\n",
        "   case 400 | 401 | 403 | 404:\n",
        "     print('Client Errors')\n",
        "   case _:\n",
        "     print('기타 HTTP 응답 코드')"
      ],
      "metadata": {
        "colab": {
          "base_uri": "https://localhost:8080/"
        },
        "id": "BjlGAcS7mogm",
        "outputId": "26466664-096f-4cd9-fd15-2efe316c0145"
      },
      "execution_count": null,
      "outputs": [
        {
          "output_type": "stream",
          "name": "stdout",
          "text": [
            "Redirection\n"
          ]
        }
      ]
    },
    {
      "cell_type": "code",
      "source": [
        "point=(1,1)\n",
        "#point=(1,0)\n",
        "#point=(0,1)\n",
        "#point=(1,1)\n",
        "match point:\n",
        "  case(0,0):\n",
        "    print('원점 좌표')\n",
        "  case(x,0):\n",
        "    print('x축 위의 점이며 x의 값은 {x}')\n",
        "  case(0,y):\n",
        "    print('y축 위의 점이며 y의 값은 {y}')\n",
        "  case(x,y):\n",
        "    print(f'(x,y)=({x},{y})')\n",
        "  case _:\n",
        "    print('오류: 2차원 좌표가 아님')"
      ],
      "metadata": {
        "colab": {
          "base_uri": "https://localhost:8080/"
        },
        "id": "XWYZltgQoUah",
        "outputId": "32ffef36-49ad-4fbe-ee3d-01443103dea9"
      },
      "execution_count": null,
      "outputs": [
        {
          "output_type": "stream",
          "name": "stdout",
          "text": [
            "(x,y)=(1,1)\n"
          ]
        }
      ]
    },
    {
      "cell_type": "code",
      "source": [
        "#21\n",
        "x=2\n",
        "y=4\n",
        "print(x*y)\n",
        "print(x/y)\n",
        "print(x**y)"
      ],
      "metadata": {
        "colab": {
          "base_uri": "https://localhost:8080/"
        },
        "id": "PLmELqhbou6_",
        "outputId": "02ee96d5-662e-4235-dd75-063f2ada9164"
      },
      "execution_count": null,
      "outputs": [
        {
          "output_type": "stream",
          "name": "stdout",
          "text": [
            "8\n",
            "0.5\n",
            "16\n"
          ]
        }
      ]
    },
    {
      "cell_type": "code",
      "source": [
        "x=5\n",
        "y=2\n",
        "print(x//y)\n",
        "print(x%y)"
      ],
      "metadata": {
        "colab": {
          "base_uri": "https://localhost:8080/"
        },
        "id": "Z8ps1LqpqDxb",
        "outputId": "881ce25c-5b3e-4a50-d380-1c69b1e97369"
      },
      "execution_count": null,
      "outputs": [
        {
          "output_type": "stream",
          "name": "stdout",
          "text": [
            "2\n",
            "1\n"
          ]
        }
      ]
    },
    {
      "cell_type": "code",
      "source": [
        "print(2e2)\n",
        "print(2e-4)"
      ],
      "metadata": {
        "colab": {
          "base_uri": "https://localhost:8080/"
        },
        "id": "8tNp6tUrqSLW",
        "outputId": "2dd2116b-2b8c-4e72-8540-7f1e0116bd5a"
      },
      "execution_count": null,
      "outputs": [
        {
          "output_type": "stream",
          "name": "stdout",
          "text": [
            "200.0\n",
            "0.0002\n"
          ]
        }
      ]
    }
  ]
}