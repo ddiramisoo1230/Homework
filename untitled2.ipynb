{
  "nbformat": 4,
  "nbformat_minor": 0,
  "metadata": {
    "colab": {
      "provenance": [],
      "authorship_tag": "ABX9TyMc0tYftgthvz3p5WWpJ1ZC",
      "include_colab_link": true
    },
    "kernelspec": {
      "name": "python3",
      "display_name": "Python 3"
    },
    "language_info": {
      "name": "python"
    }
  },
  "cells": [
    {
      "cell_type": "markdown",
      "metadata": {
        "id": "view-in-github",
        "colab_type": "text"
      },
      "source": [
        "<a href=\"https://colab.research.google.com/github/ddiramisoo1230/Homework/blob/main/untitled2.ipynb\" target=\"_parent\"><img src=\"https://colab.research.google.com/assets/colab-badge.svg\" alt=\"Open In Colab\"/></a>"
      ]
    },
    {
      "cell_type": "code",
      "execution_count": null,
      "metadata": {
        "colab": {
          "base_uri": "https://localhost:8080/"
        },
        "id": "vzJTiTpSTO74",
        "outputId": "10535b1c-c523-4968-a51a-0f987e5f24fd"
      },
      "outputs": [
        {
          "output_type": "stream",
          "name": "stdout",
          "text": [
            "01234"
          ]
        }
      ],
      "source": [
        "#36\n",
        "class MyRange:\n",
        "    def __init__(self,n):\n",
        "      self.maxn=n\n",
        "      self.current=0\n",
        "    def __iter__(self):\n",
        "      return self\n",
        "    def __next__(self):\n",
        "     if self.current>=self.maxn:\n",
        "      raise StopIteration\n",
        "     else:\n",
        "      ret=self.current\n",
        "      self.current+=1\n",
        "      return ret\n",
        "\n",
        "\n",
        "intList=MyRange(5)\n",
        "for i in intList:\n",
        "  print(i,end='')\n",
        "\n",
        "\n",
        "\n"
      ]
    },
    {
      "cell_type": "code",
      "source": [
        "#37\n",
        "def MyRange(n):\n",
        "  current=0\n",
        "  while current<n:\n",
        "    yield current\n",
        "    current+=1\n",
        "\n",
        "intList=MyRange(5)\n",
        "for i in intList:\n",
        "    print(i,end='')"
      ],
      "metadata": {
        "colab": {
          "base_uri": "https://localhost:8080/"
        },
        "id": "8lIhAAJkVGqW",
        "outputId": "152c9616-21d3-49d6-c83d-b48f7a6fef04"
      },
      "execution_count": null,
      "outputs": [
        {
          "output_type": "stream",
          "name": "stdout",
          "text": [
            "01234"
          ]
        }
      ]
    }
  ]
}