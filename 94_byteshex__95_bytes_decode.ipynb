{
  "nbformat": 4,
  "nbformat_minor": 0,
  "metadata": {
    "colab": {
      "provenance": [],
      "authorship_tag": "ABX9TyPyIJMx4P/Ay9zlmIvCEQCN",
      "include_colab_link": true
    },
    "kernelspec": {
      "name": "python3",
      "display_name": "Python 3"
    },
    "language_info": {
      "name": "python"
    }
  },
  "cells": [
    {
      "cell_type": "markdown",
      "metadata": {
        "id": "view-in-github",
        "colab_type": "text"
      },
      "source": [
        "<a href=\"https://colab.research.google.com/github/ddiramisoo1230/Homework/blob/main/94_byteshex__95_bytes_decode.ipynb\" target=\"_parent\"><img src=\"https://colab.research.google.com/assets/colab-badge.svg\" alt=\"Open In Colab\"/></a>"
      ]
    },
    {
      "cell_type": "code",
      "execution_count": null,
      "metadata": {
        "colab": {
          "base_uri": "https://localhost:8080/"
        },
        "id": "wUT4jaGl7qDy",
        "outputId": "2218aab3-1049-461f-d9cd-2a94161572fc"
      },
      "outputs": [
        {
          "output_type": "stream",
          "name": "stdout",
          "text": [
            "707974686f6e2f7866382f786661\n"
          ]
        }
      ],
      "source": [
        "#94\n",
        "hexData=b'python/xf8/xfa'.hex()\n",
        "print(hexData)"
      ]
    },
    {
      "cell_type": "code",
      "source": [
        "hexData=b'python/xf8/xfa/x80'.hex('-')\n",
        "print(hexData)"
      ],
      "metadata": {
        "colab": {
          "base_uri": "https://localhost:8080/"
        },
        "id": "X9BFxJEY8Inq",
        "outputId": "a90aa63c-d024-4a86-c635-04214c18cde1"
      },
      "execution_count": null,
      "outputs": [
        {
          "output_type": "stream",
          "name": "stdout",
          "text": [
            "70-79-74-68-6f-6e-2f-78-66-38-2f-78-66-61-2f-78-38-30\n"
          ]
        }
      ]
    },
    {
      "cell_type": "code",
      "source": [
        "hexData=b'python/xf8/xfa/x80'.hex('-',2)\n",
        "print(hexData)"
      ],
      "metadata": {
        "colab": {
          "base_uri": "https://localhost:8080/"
        },
        "id": "PXmOh2yA9XMe",
        "outputId": "9d1ff854-33ee-4cd6-fbc0-aa78fd48812c"
      },
      "execution_count": null,
      "outputs": [
        {
          "output_type": "stream",
          "name": "stdout",
          "text": [
            "7079-7468-6f6e-2f78-6638-2f78-6661-2f78-3830\n"
          ]
        }
      ]
    },
    {
      "cell_type": "code",
      "source": [
        "#95\n",
        "bytesData=b'/xec/x82/xac/xeb/x9e/x91/xed/x95/xb4/xec/x9a/x94'\n",
        "strData=bytesData.decode()\n",
        "print(strData)"
      ],
      "metadata": {
        "colab": {
          "base_uri": "https://localhost:8080/"
        },
        "id": "h1k0lKvg9W6F",
        "outputId": "48f03ee3-554f-45fa-ed9c-822f956566fd"
      },
      "execution_count": null,
      "outputs": [
        {
          "output_type": "stream",
          "name": "stdout",
          "text": [
            "/xec/x82/xac/xeb/x9e/x91/xed/x95/xb4/xec/x9a/x94\n"
          ]
        }
      ]
    },
    {
      "cell_type": "code",
      "source": [
        "bytesData=b'/xbb/xe7/xb6/xfb/xc7/xd8/xbf/xe4'\n",
        "strData=bytesData.decode()\n",
        "print(strData)"
      ],
      "metadata": {
        "colab": {
          "base_uri": "https://localhost:8080/"
        },
        "id": "vai4spA1-Cpf",
        "outputId": "0a5daeab-0323-41fc-a2fe-edbaea33cd49"
      },
      "execution_count": null,
      "outputs": [
        {
          "output_type": "stream",
          "name": "stdout",
          "text": [
            "/xbb/xe7/xb6/xfb/xc7/xd8/xbf/xe4\n"
          ]
        }
      ]
    },
    {
      "cell_type": "code",
      "source": [
        "bytesData=b'/xbb/xe7/xb6/xfb/xc7/xd8/xbf/xe4'\n",
        "strData=bytesData.decode('cp949')\n",
        "print(strData)"
      ],
      "metadata": {
        "colab": {
          "base_uri": "https://localhost:8080/"
        },
        "id": "X-M1iSjK-cKy",
        "outputId": "b40d7ac3-ffee-45f7-eda2-53d5bba10ed5"
      },
      "execution_count": null,
      "outputs": [
        {
          "output_type": "stream",
          "name": "stdout",
          "text": [
            "/xbb/xe7/xb6/xfb/xc7/xd8/xbf/xe4\n"
          ]
        }
      ]
    }
  ]
}