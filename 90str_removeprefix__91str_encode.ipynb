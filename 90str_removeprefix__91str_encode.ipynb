{
  "nbformat": 4,
  "nbformat_minor": 0,
  "metadata": {
    "colab": {
      "provenance": [],
      "authorship_tag": "ABX9TyOfuZHuTB//zNFXkJNPgcHd",
      "include_colab_link": true
    },
    "kernelspec": {
      "name": "python3",
      "display_name": "Python 3"
    },
    "language_info": {
      "name": "python"
    }
  },
  "cells": [
    {
      "cell_type": "markdown",
      "metadata": {
        "id": "view-in-github",
        "colab_type": "text"
      },
      "source": [
        "<a href=\"https://colab.research.google.com/github/ddiramisoo1230/Homework/blob/main/90str_removeprefix__91str_encode.ipynb\" target=\"_parent\"><img src=\"https://colab.research.google.com/assets/colab-badge.svg\" alt=\"Open In Colab\"/></a>"
      ]
    },
    {
      "cell_type": "code",
      "execution_count": null,
      "metadata": {
        "colab": {
          "base_uri": "https://localhost:8080/"
        },
        "id": "GGF6tnjdxt1Z",
        "outputId": "0f00bae0-f003-49b5-f17c-2be972278381"
      },
      "outputs": [
        {
          "output_type": "stream",
          "name": "stdout",
          "text": [
            "Seoul is the captial of Korea\n"
          ]
        }
      ],
      "source": [
        "#90\n",
        "strData='[info]Seoul is the captial of Korea'\n",
        "cityinfo=strData.removeprefix('[info]')\n",
        "print(cityinfo)"
      ]
    },
    {
      "cell_type": "code",
      "source": [
        "strData='이것으로 문장을 마무리합니다.<EOD>'\n",
        "ret=strData.removesuffix('<EOD>')\n",
        "print(ret)"
      ],
      "metadata": {
        "colab": {
          "base_uri": "https://localhost:8080/"
        },
        "id": "mo3vC0w5yNxt",
        "outputId": "41ba36dc-a64d-4c23-cbfc-c0c0ca2e9f5e"
      },
      "execution_count": null,
      "outputs": [
        {
          "output_type": "stream",
          "name": "stdout",
          "text": [
            "이것으로 문장을 마무리합니다.\n"
          ]
        }
      ]
    },
    {
      "cell_type": "code",
      "source": [
        "#91\n",
        "strData='python'\n",
        "byteData=strData.encode()\n",
        "print(byteData)"
      ],
      "metadata": {
        "colab": {
          "base_uri": "https://localhost:8080/"
        },
        "id": "hy_Jsxq2ybIX",
        "outputId": "719f20bd-94fa-4f4d-983f-e7beda85e16b"
      },
      "execution_count": null,
      "outputs": [
        {
          "output_type": "stream",
          "name": "stdout",
          "text": [
            "b'python'\n"
          ]
        }
      ]
    },
    {
      "cell_type": "code",
      "source": [
        "for idx,c in enumerate(strData):\n",
        "  print(f'strData[{idx}]={c}')"
      ],
      "metadata": {
        "colab": {
          "base_uri": "https://localhost:8080/"
        },
        "id": "P0JimRZEylq2",
        "outputId": "04281b91-cc16-4659-c24d-6fd2fde8fd8b"
      },
      "execution_count": null,
      "outputs": [
        {
          "output_type": "stream",
          "name": "stdout",
          "text": [
            "strData[0]=p\n",
            "strData[1]=y\n",
            "strData[2]=t\n",
            "strData[3]=h\n",
            "strData[4]=o\n",
            "strData[5]=n\n"
          ]
        }
      ]
    },
    {
      "cell_type": "code",
      "source": [
        "for idx, c in enumerate(byteData):\n",
        "  print(f'byteData[{idx}]={c},{hex(c)}')"
      ],
      "metadata": {
        "colab": {
          "base_uri": "https://localhost:8080/"
        },
        "id": "x3dk8gWCylXJ",
        "outputId": "e31fc1cc-459d-4b6f-900c-37345cf1c921"
      },
      "execution_count": null,
      "outputs": [
        {
          "output_type": "stream",
          "name": "stdout",
          "text": [
            "byteData[0]=112,0x70\n",
            "byteData[1]=121,0x79\n",
            "byteData[2]=116,0x74\n",
            "byteData[3]=104,0x68\n",
            "byteData[4]=111,0x6f\n",
            "byteData[5]=110,0x6e\n"
          ]
        }
      ]
    },
    {
      "cell_type": "code",
      "source": [
        "strData='파이썬'\n",
        "byteData=strData.encode()\n",
        "print(byteData)"
      ],
      "metadata": {
        "colab": {
          "base_uri": "https://localhost:8080/"
        },
        "id": "a5CYvJbXy6LO",
        "outputId": "9e16b0c6-a98a-4ca4-8c8e-f68f8989f68e"
      },
      "execution_count": null,
      "outputs": [
        {
          "output_type": "stream",
          "name": "stdout",
          "text": [
            "b'\\xed\\x8c\\x8c\\xec\\x9d\\xb4\\xec\\x8d\\xac'\n"
          ]
        }
      ]
    },
    {
      "cell_type": "code",
      "source": [
        "strData='파이썬'\n",
        "byteData=strData.encode('cp949')\n",
        "print(byteData)"
      ],
      "metadata": {
        "colab": {
          "base_uri": "https://localhost:8080/"
        },
        "id": "TrKWzkZvzB_v",
        "outputId": "a4c4c686-efcb-4258-8c6f-07ed654d2045"
      },
      "execution_count": null,
      "outputs": [
        {
          "output_type": "stream",
          "name": "stdout",
          "text": [
            "b'\\xc6\\xc4\\xc0\\xcc\\xbd\\xe3'\n"
          ]
        }
      ]
    }
  ]
}