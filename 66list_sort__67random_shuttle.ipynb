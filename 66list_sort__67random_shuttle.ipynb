{
  "nbformat": 4,
  "nbformat_minor": 0,
  "metadata": {
    "colab": {
      "provenance": [],
      "authorship_tag": "ABX9TyOP5+iJ3lllhi24vHc6CnQ7",
      "include_colab_link": true
    },
    "kernelspec": {
      "name": "python3",
      "display_name": "Python 3"
    },
    "language_info": {
      "name": "python"
    }
  },
  "cells": [
    {
      "cell_type": "markdown",
      "metadata": {
        "id": "view-in-github",
        "colab_type": "text"
      },
      "source": [
        "<a href=\"https://colab.research.google.com/github/ddiramisoo1230/Homework/blob/main/66list_sort__67random_shuttle.ipynb\" target=\"_parent\"><img src=\"https://colab.research.google.com/assets/colab-badge.svg\" alt=\"Open In Colab\"/></a>"
      ]
    },
    {
      "cell_type": "code",
      "execution_count": null,
      "metadata": {
        "colab": {
          "base_uri": "https://localhost:8080/"
        },
        "id": "TRXZr-F8PGJn",
        "outputId": "b638d8c2-f573-4ee3-ead1-f961e4e1fcd2"
      },
      "outputs": [
        {
          "output_type": "stream",
          "name": "stdout",
          "text": [
            "['Aemy', 'Bob', 'Kelly', 'Mary', 'Michale', 'Sams', 'Tom']\n"
          ]
        }
      ],
      "source": [
        "#66\n",
        "nameList=['Mary','Sams','Aemy','Tom','Michale','Bob','Kelly']\n",
        "nameList.sort()\n",
        "print(nameList)"
      ]
    },
    {
      "cell_type": "code",
      "source": [
        "nameList=['Mary','Sams','Aemy','Tom','Michale','Bob','Kelly']\n",
        "nameList.sort(reverse=True)\n",
        "print(nameList)"
      ],
      "metadata": {
        "colab": {
          "base_uri": "https://localhost:8080/"
        },
        "id": "j_JTXpjuPpHx",
        "outputId": "620fff47-6f22-40fc-c707-195f3235cbf3"
      },
      "execution_count": null,
      "outputs": [
        {
          "output_type": "stream",
          "name": "stdout",
          "text": [
            "['Tom', 'Sams', 'Michale', 'Mary', 'Kelly', 'Bob', 'Aemy']\n"
          ]
        }
      ]
    },
    {
      "cell_type": "code",
      "source": [
        "#67\n",
        "import random\n",
        "numList=list(range(1,11))\n",
        "random.shuffle(numList)\n",
        "print(numList)"
      ],
      "metadata": {
        "colab": {
          "base_uri": "https://localhost:8080/"
        },
        "id": "fkCmcZ41P1tP",
        "outputId": "64ab42cf-cb31-439c-ecc5-7ea064294c71"
      },
      "execution_count": null,
      "outputs": [
        {
          "output_type": "stream",
          "name": "stdout",
          "text": [
            "[3, 10, 9, 7, 4, 2, 1, 5, 6, 8]\n"
          ]
        }
      ]
    },
    {
      "cell_type": "code",
      "source": [
        "numList=list(range(1,11))\n",
        "copied=numList.copy()\n",
        "random.shuffle(copied)\n",
        "print(f'numList:{numList}')\n",
        "print(f'copied: {copied}')"
      ],
      "metadata": {
        "colab": {
          "base_uri": "https://localhost:8080/"
        },
        "id": "KkoHndKJQNSS",
        "outputId": "187a7503-dc64-47b2-8319-89755bd54297"
      },
      "execution_count": null,
      "outputs": [
        {
          "output_type": "stream",
          "name": "stdout",
          "text": [
            "numList:[1, 2, 3, 4, 5, 6, 7, 8, 9, 10]\n",
            "copied: [1, 5, 3, 9, 10, 8, 2, 7, 4, 6]\n"
          ]
        }
      ]
    }
  ]
}