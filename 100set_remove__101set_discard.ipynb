{
  "nbformat": 4,
  "nbformat_minor": 0,
  "metadata": {
    "colab": {
      "provenance": [],
      "authorship_tag": "ABX9TyNji3xvo4f1UrOHhjZab62S",
      "include_colab_link": true
    },
    "kernelspec": {
      "name": "python3",
      "display_name": "Python 3"
    },
    "language_info": {
      "name": "python"
    }
  },
  "cells": [
    {
      "cell_type": "markdown",
      "metadata": {
        "id": "view-in-github",
        "colab_type": "text"
      },
      "source": [
        "<a href=\"https://colab.research.google.com/github/ddiramisoo1230/Homework/blob/main/100set_remove__101set_discard.ipynb\" target=\"_parent\"><img src=\"https://colab.research.google.com/assets/colab-badge.svg\" alt=\"Open In Colab\"/></a>"
      ]
    },
    {
      "cell_type": "code",
      "execution_count": null,
      "metadata": {
        "colab": {
          "base_uri": "https://localhost:8080/"
        },
        "id": "0h6hKpjxFooV",
        "outputId": "a33fc8ef-99c6-44cc-8426-27596877818f"
      },
      "outputs": [
        {
          "output_type": "stream",
          "name": "stdout",
          "text": [
            "{'배', '수박', '오렌지'}\n"
          ]
        }
      ],
      "source": [
        "#100\n",
        "fruits={'사과','배','오렌지','수박'}\n",
        "fruits.remove('사과')\n",
        "print(fruits)"
      ]
    },
    {
      "cell_type": "code",
      "source": [
        "fruits.remove('딸기')"
      ],
      "metadata": {
        "colab": {
          "base_uri": "https://localhost:8080/",
          "height": 148
        },
        "id": "JQdDwDFtF9ZS",
        "outputId": "2c954a2a-5e88-4278-aa3b-401621398724"
      },
      "execution_count": null,
      "outputs": [
        {
          "output_type": "error",
          "ename": "KeyError",
          "evalue": "'딸기'",
          "traceback": [
            "\u001b[0;31m---------------------------------------------------------------------------\u001b[0m",
            "\u001b[0;31mKeyError\u001b[0m                                  Traceback (most recent call last)",
            "\u001b[0;32m/tmp/ipython-input-954756110.py\u001b[0m in \u001b[0;36m<cell line: 0>\u001b[0;34m()\u001b[0m\n\u001b[0;32m----> 1\u001b[0;31m \u001b[0mfruits\u001b[0m\u001b[0;34m.\u001b[0m\u001b[0mremove\u001b[0m\u001b[0;34m(\u001b[0m\u001b[0;34m'딸기'\u001b[0m\u001b[0;34m)\u001b[0m\u001b[0;34m\u001b[0m\u001b[0;34m\u001b[0m\u001b[0m\n\u001b[0m",
            "\u001b[0;31mKeyError\u001b[0m: '딸기'"
          ]
        }
      ]
    },
    {
      "cell_type": "code",
      "source": [
        "#101\n",
        "fruits={'사과','배','오렌지','수박'}\n",
        "fruits.discard('사과')\n",
        "print(fruits)\n",
        "fruits.discard('딸기')\n",
        "print(fruits)"
      ],
      "metadata": {
        "colab": {
          "base_uri": "https://localhost:8080/"
        },
        "id": "O_8S9s10GB6X",
        "outputId": "fe76950e-ef5d-4831-b309-d8e082bb8cda"
      },
      "execution_count": null,
      "outputs": [
        {
          "output_type": "stream",
          "name": "stdout",
          "text": [
            "{'배', '수박', '오렌지'}\n",
            "{'배', '수박', '오렌지'}\n"
          ]
        }
      ]
    }
  ]
}