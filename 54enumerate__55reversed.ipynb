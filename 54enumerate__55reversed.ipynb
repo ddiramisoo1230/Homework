{
  "nbformat": 4,
  "nbformat_minor": 0,
  "metadata": {
    "colab": {
      "provenance": [],
      "authorship_tag": "ABX9TyO6KBtTtrktTEJEDTGnylRN",
      "include_colab_link": true
    },
    "kernelspec": {
      "name": "python3",
      "display_name": "Python 3"
    },
    "language_info": {
      "name": "python"
    }
  },
  "cells": [
    {
      "cell_type": "markdown",
      "metadata": {
        "id": "view-in-github",
        "colab_type": "text"
      },
      "source": [
        "<a href=\"https://colab.research.google.com/github/ddiramisoo1230/Homework/blob/main/54enumerate__55reversed.ipynb\" target=\"_parent\"><img src=\"https://colab.research.google.com/assets/colab-badge.svg\" alt=\"Open In Colab\"/></a>"
      ]
    },
    {
      "cell_type": "code",
      "execution_count": null,
      "metadata": {
        "colab": {
          "base_uri": "https://localhost:8080/"
        },
        "id": "WvRkut8bIZsp",
        "outputId": "53ea4fc2-bca1-46ee-d02e-e8d1a4534691"
      },
      "outputs": [
        {
          "output_type": "stream",
          "name": "stdout",
          "text": [
            "태양계의 0번째 천체: 태양\n",
            "태양계의 1번째 천체: 수성\n",
            "태양계의 2번째 천체: 금성\n",
            "태양계의 3번째 천체: 지구\n",
            "태양계의 4번째 천체: 화성\n",
            "태양계의 5번째 천체: 목성\n",
            "태양계의 6번째 천체: 토성\n",
            "태양계의 7번째 천체: 천왕성\n",
            "태양계의 8번째 천체: 해왕성\n"
          ]
        }
      ],
      "source": [
        "#54\n",
        "solarsys=['태양','수성','금성','지구','화성','목성','토성','천왕성','해왕성']\n",
        "for i, body in enumerate(solarsys):\n",
        "  print(f'태양계의 {i}번째 천체: {body}')"
      ]
    },
    {
      "cell_type": "code",
      "source": [
        "seasons=['봄','여름','가을','겨울']\n",
        "print(list(enumerate(seasons,start=1)))"
      ],
      "metadata": {
        "colab": {
          "base_uri": "https://localhost:8080/"
        },
        "id": "xNPkxhjlJB-A",
        "outputId": "4c807d48-bac0-4dbf-9663-1b2280cbaa2f"
      },
      "execution_count": null,
      "outputs": [
        {
          "output_type": "stream",
          "name": "stdout",
          "text": [
            "[(1, '봄'), (2, '여름'), (3, '가을'), (4, '겨울')]\n"
          ]
        }
      ]
    },
    {
      "cell_type": "code",
      "source": [
        "def myEnumerate(iterable,start=0):\n",
        "  n=start\n",
        "  for item in iterable:\n",
        "    yield (n,item)\n",
        "    n+=1"
      ],
      "metadata": {
        "id": "qDs3PiwLJMPI"
      },
      "execution_count": null,
      "outputs": []
    },
    {
      "cell_type": "code",
      "source": [
        "print(list(myEnumerate(seasons,start=1)))"
      ],
      "metadata": {
        "colab": {
          "base_uri": "https://localhost:8080/"
        },
        "id": "83pb0U4ZJYqt",
        "outputId": "99a4daa2-9bc6-417a-92cf-fbf1358a2427"
      },
      "execution_count": null,
      "outputs": [
        {
          "output_type": "stream",
          "name": "stdout",
          "text": [
            "[(1, '봄'), (2, '여름'), (3, '가을'), (4, '겨울')]\n"
          ]
        }
      ]
    },
    {
      "cell_type": "code",
      "source": [
        "#55\n",
        "fruits=('사과','배','오렌지','수박')\n",
        "ret=reversed(fruits)\n",
        "print(list(ret))"
      ],
      "metadata": {
        "colab": {
          "base_uri": "https://localhost:8080/"
        },
        "id": "jKYIZtIhJdXS",
        "outputId": "c905f547-e2a3-472c-8ed2-ecca151d180f"
      },
      "execution_count": null,
      "outputs": [
        {
          "output_type": "stream",
          "name": "stdout",
          "text": [
            "['수박', '오렌지', '배', '사과']\n"
          ]
        }
      ]
    },
    {
      "cell_type": "code",
      "source": [
        "print(fruits)"
      ],
      "metadata": {
        "colab": {
          "base_uri": "https://localhost:8080/"
        },
        "id": "WqlaBeLnJqQ8",
        "outputId": "1ceac54b-69f7-4040-fb49-57762aa965f1"
      },
      "execution_count": null,
      "outputs": [
        {
          "output_type": "stream",
          "name": "stdout",
          "text": [
            "('사과', '배', '오렌지', '수박')\n"
          ]
        }
      ]
    },
    {
      "cell_type": "code",
      "source": [
        "for i in reversed(range(1,6)):\n",
        "  print(i)"
      ],
      "metadata": {
        "colab": {
          "base_uri": "https://localhost:8080/"
        },
        "id": "oHaPOUGCJs-6",
        "outputId": "0865d576-7561-488b-9803-3f229bc69303"
      },
      "execution_count": null,
      "outputs": [
        {
          "output_type": "stream",
          "name": "stdout",
          "text": [
            "5\n",
            "4\n",
            "3\n",
            "2\n",
            "1\n"
          ]
        }
      ]
    }
  ]
}