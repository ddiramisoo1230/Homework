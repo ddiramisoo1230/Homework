{
  "nbformat": 4,
  "nbformat_minor": 0,
  "metadata": {
    "colab": {
      "provenance": [],
      "authorship_tag": "ABX9TyNPrupSnZUELeznAZv3jp/H",
      "include_colab_link": true
    },
    "kernelspec": {
      "name": "python3",
      "display_name": "Python 3"
    },
    "language_info": {
      "name": "python"
    }
  },
  "cells": [
    {
      "cell_type": "markdown",
      "metadata": {
        "id": "view-in-github",
        "colab_type": "text"
      },
      "source": [
        "<a href=\"https://colab.research.google.com/github/ddiramisoo1230/Homework/blob/main/84str_replace__85str_zfill.ipynb\" target=\"_parent\"><img src=\"https://colab.research.google.com/assets/colab-badge.svg\" alt=\"Open In Colab\"/></a>"
      ]
    },
    {
      "cell_type": "code",
      "execution_count": null,
      "metadata": {
        "colab": {
          "base_uri": "https://localhost:8080/"
        },
        "id": "sdcHD8__fc7g",
        "outputId": "8b1d5ad1-b5e2-4821-9faa-6fd4e7bc78bf"
      },
      "outputs": [
        {
          "output_type": "stream",
          "name": "stdout",
          "text": [
            "텍스트: 파이썬에서 시퀀스 자료 중 하나임\n"
          ]
        }
      ],
      "source": [
        "#84\n",
        "text='문자열: 파이썬에서 시퀀스 자료 중 하나임'\n",
        "ret=text.replace('문자열','텍스트')\n",
        "print(ret)\n"
      ]
    },
    {
      "cell_type": "code",
      "source": [
        "text='매일 많은 일들이 일어납니다.'\n",
        "ret=text.replace('일','사건')\n",
        "print(ret)"
      ],
      "metadata": {
        "colab": {
          "base_uri": "https://localhost:8080/"
        },
        "id": "vdMLeZzPgsS4",
        "outputId": "ccfbe71d-5271-466e-e9d8-88ba79863170"
      },
      "execution_count": null,
      "outputs": [
        {
          "output_type": "stream",
          "name": "stdout",
          "text": [
            "매사건 많은 사건들이 사건어납니다.\n"
          ]
        }
      ]
    },
    {
      "cell_type": "code",
      "source": [
        "#85\n",
        "numData=['5','27','342','1004']\n",
        "for numstr in numData:\n",
        "  ret = numstr.zfill(4)\n",
        "  print(ret)"
      ],
      "metadata": {
        "colab": {
          "base_uri": "https://localhost:8080/"
        },
        "id": "wxF5ExfQg04N",
        "outputId": "185377e7-485b-4b6f-8a13-eb693d31c0c0"
      },
      "execution_count": null,
      "outputs": [
        {
          "output_type": "stream",
          "name": "stdout",
          "text": [
            "0005\n",
            "0027\n",
            "0342\n",
            "1004\n"
          ]
        }
      ]
    },
    {
      "cell_type": "code",
      "source": [
        "numData=['5','-27','-342','-1004']\n",
        "for numstr in numData:\n",
        "  ret=numstr.zfill(4)\n",
        "  print(ret)"
      ],
      "metadata": {
        "colab": {
          "base_uri": "https://localhost:8080/"
        },
        "id": "pbNtwXfWhBbb",
        "outputId": "89babeac-0747-4ff9-c50d-3ab731f3d0e6"
      },
      "execution_count": null,
      "outputs": [
        {
          "output_type": "stream",
          "name": "stdout",
          "text": [
            "0005\n",
            "-027\n",
            "-342\n",
            "-1004\n"
          ]
        }
      ]
    }
  ]
}