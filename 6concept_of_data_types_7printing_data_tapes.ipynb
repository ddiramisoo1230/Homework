{
  "nbformat": 4,
  "nbformat_minor": 0,
  "metadata": {
    "colab": {
      "provenance": [],
      "authorship_tag": "ABX9TyPpXyc9tP+jZfA+acqBjBNd",
      "include_colab_link": true
    },
    "kernelspec": {
      "name": "python3",
      "display_name": "Python 3"
    },
    "language_info": {
      "name": "python"
    }
  },
  "cells": [
    {
      "cell_type": "markdown",
      "metadata": {
        "id": "view-in-github",
        "colab_type": "text"
      },
      "source": [
        "<a href=\"https://colab.research.google.com/github/ddiramisoo1230/Homework/blob/main/6concept_of_data_types_7printing_data_tapes.ipynb\" target=\"_parent\"><img src=\"https://colab.research.google.com/assets/colab-badge.svg\" alt=\"Open In Colab\"/></a>"
      ]
    },
    {
      "cell_type": "code",
      "execution_count": 1,
      "metadata": {
        "id": "yA1kWVjzERSh"
      },
      "outputs": [],
      "source": [
        "#6\n",
        "intData=15\n",
        "floatData=2.5\n",
        "complexata=1+1j"
      ]
    },
    {
      "cell_type": "code",
      "source": [
        "isTrue=True\n",
        "isFalse=False"
      ],
      "metadata": {
        "id": "nsR5ojcsFJZi"
      },
      "execution_count": 2,
      "outputs": []
    },
    {
      "cell_type": "code",
      "source": [
        "setData={1,2,3,4,5}"
      ],
      "metadata": {
        "id": "_gFjTwQMFlUl"
      },
      "execution_count": 3,
      "outputs": []
    },
    {
      "cell_type": "code",
      "source": [
        "dictData={0:False,1:True}"
      ],
      "metadata": {
        "id": "DUTyt-7pGDJu"
      },
      "execution_count": 4,
      "outputs": []
    },
    {
      "cell_type": "code",
      "source": [
        "#7\n",
        "print('안녕하세요 파이썬!')"
      ],
      "metadata": {
        "colab": {
          "base_uri": "https://localhost:8080/"
        },
        "id": "Q5gPvRzPGJWq",
        "outputId": "0c8fe24c-1d6a-47a0-e076-bd5f09ca7367"
      },
      "execution_count": 5,
      "outputs": [
        {
          "output_type": "stream",
          "name": "stdout",
          "text": [
            "안녕하세요 파이썬!\n"
          ]
        }
      ]
    },
    {
      "cell_type": "code",
      "source": [
        "hello='안녕하세요 파이썬!'\n",
        "print(hello)"
      ],
      "metadata": {
        "colab": {
          "base_uri": "https://localhost:8080/"
        },
        "id": "unnmKYDCHCJ1",
        "outputId": "9ccc6d49-bcb1-44da-fd68-fd5de604484e"
      },
      "execution_count": 6,
      "outputs": [
        {
          "output_type": "stream",
          "name": "stdout",
          "text": [
            "안녕하세요 파이썬!\n"
          ]
        }
      ]
    },
    {
      "cell_type": "code",
      "source": [
        "intData1=1\n",
        "intData2=2\n",
        "print(intData1+intData2)"
      ],
      "metadata": {
        "colab": {
          "base_uri": "https://localhost:8080/"
        },
        "id": "3fCeHRwYHJ_a",
        "outputId": "b3e0df02-0831-4384-90b1-b4eb6ca02ef8"
      },
      "execution_count": 7,
      "outputs": [
        {
          "output_type": "stream",
          "name": "stdout",
          "text": [
            "3\n"
          ]
        }
      ]
    },
    {
      "cell_type": "code",
      "source": [
        "name='홍길동'\n",
        "phone='010-1234-5678'\n",
        "print('이름:',name,'핸드폰:',phone)"
      ],
      "metadata": {
        "colab": {
          "base_uri": "https://localhost:8080/"
        },
        "id": "59wHUdtGHVra",
        "outputId": "8d295c11-5e05-49ef-9b04-4170055f1120"
      },
      "execution_count": 8,
      "outputs": [
        {
          "output_type": "stream",
          "name": "stdout",
          "text": [
            "이름: 홍길동 핸드폰: 010-1234-5678\n"
          ]
        }
      ]
    },
    {
      "cell_type": "code",
      "source": [
        "print('#',end='')\n",
        "print('#'*5)"
      ],
      "metadata": {
        "colab": {
          "base_uri": "https://localhost:8080/"
        },
        "id": "eDdil0C8Hf8b",
        "outputId": "b06b2bbc-58ac-4e81-a522-d06f8d6ab3fc"
      },
      "execution_count": 9,
      "outputs": [
        {
          "output_type": "stream",
          "name": "stdout",
          "text": [
            "######\n"
          ]
        }
      ]
    },
    {
      "cell_type": "code",
      "source": [
        "print(name,phone,sep=';')"
      ],
      "metadata": {
        "colab": {
          "base_uri": "https://localhost:8080/"
        },
        "id": "IitUWP9PICkM",
        "outputId": "a446fbe9-e858-450e-fb1b-3cb0c9523e2d"
      },
      "execution_count": 10,
      "outputs": [
        {
          "output_type": "stream",
          "name": "stdout",
          "text": [
            "홍길동;010-1234-5678\n"
          ]
        }
      ]
    }
  ]
}