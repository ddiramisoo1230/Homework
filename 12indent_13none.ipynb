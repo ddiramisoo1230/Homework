{
  "nbformat": 4,
  "nbformat_minor": 0,
  "metadata": {
    "colab": {
      "provenance": [],
      "authorship_tag": "ABX9TyPK1fKFLONEfK0MfA0fOeef",
      "include_colab_link": true
    },
    "kernelspec": {
      "name": "python3",
      "display_name": "Python 3"
    },
    "language_info": {
      "name": "python"
    }
  },
  "cells": [
    {
      "cell_type": "markdown",
      "metadata": {
        "id": "view-in-github",
        "colab_type": "text"
      },
      "source": [
        "<a href=\"https://colab.research.google.com/github/ddiramisoo1230/Homework/blob/main/12indent_13none.ipynb\" target=\"_parent\"><img src=\"https://colab.research.google.com/assets/colab-badge.svg\" alt=\"Open In Colab\"/></a>"
      ]
    },
    {
      "cell_type": "code",
      "execution_count": null,
      "metadata": {
        "colab": {
          "base_uri": "https://localhost:8080/"
        },
        "id": "Gerp64zr78CO",
        "outputId": "d134ac8b-f7d9-414c-cb0b-71688cec2943"
      },
      "outputs": [
        {
          "output_type": "stream",
          "name": "stdout",
          "text": [
            "\"a\"가 listData에 요소로 존재합니다.\n"
          ]
        }
      ],
      "source": [
        "#12\n",
        "listData=['a','b','c']\n",
        "if 'a' in listData:\n",
        "  print('\"a\"가 listData에 요소로 존재합니다.')\n",
        "else:\n",
        "  print('\"a\"가 listData에 요소로 존재하지 않습니다.')"
      ]
    },
    {
      "cell_type": "code",
      "source": [
        "listData=['a','b','c']\n",
        "if 'a' in listData:print('\"a\"가 listData에 요소로 존재합니다.')"
      ],
      "metadata": {
        "colab": {
          "base_uri": "https://localhost:8080/"
        },
        "id": "L0P4ucLz-iod",
        "outputId": "91025543-8762-4af7-92a3-80c538ac124c"
      },
      "execution_count": null,
      "outputs": [
        {
          "output_type": "stream",
          "name": "stdout",
          "text": [
            "\"a\"가 listData에 요소로 존재합니다.\n"
          ]
        }
      ]
    },
    {
      "cell_type": "code",
      "source": [
        "   listData=['a','b','c']\n",
        "if 'a' in listData:\n",
        "  print('\"a\"가 listData에 요소로 존재합니다.')\n",
        "else:\n",
        "  print('\"a\"가 listData에 요소로 존재하지 않습니다.')"
      ],
      "metadata": {
        "colab": {
          "base_uri": "https://localhost:8080/"
        },
        "id": "9YXLo9q-_XLl",
        "outputId": "fa1fbcc2-3118-4464-9e99-63572f1206eb"
      },
      "execution_count": null,
      "outputs": [
        {
          "output_type": "stream",
          "name": "stdout",
          "text": [
            "\"a\"가 listData에 요소로 존재합니다.\n"
          ]
        }
      ]
    },
    {
      "cell_type": "code",
      "source": [
        "listDat=['a','b','c']\n",
        "if 'a' in listData:\n",
        "  print('\"a\"가 listData에 요소로 존재합니다.')\n",
        "   print('프로그램을 종료합니다.')\n",
        "else:\n",
        "  print('\"a\"가 listData에 요소로 존재하지 않습니다.')"
      ],
      "metadata": {
        "colab": {
          "base_uri": "https://localhost:8080/",
          "height": 110
        },
        "id": "M7dWfcPC_3Zi",
        "outputId": "67bb1bda-5286-4c40-cdc0-b9a91ef5e312"
      },
      "execution_count": null,
      "outputs": [
        {
          "output_type": "error",
          "ename": "IndentationError",
          "evalue": "unexpected indent (ipython-input-2020131934.py, line 4)",
          "traceback": [
            "\u001b[0;36m  File \u001b[0;32m\"/tmp/ipython-input-2020131934.py\"\u001b[0;36m, line \u001b[0;32m4\u001b[0m\n\u001b[0;31m    print('프로그램을 종료합니다.')\u001b[0m\n\u001b[0m    ^\u001b[0m\n\u001b[0;31mIndentationError\u001b[0m\u001b[0;31m:\u001b[0m unexpected indent\n"
          ]
        }
      ]
    },
    {
      "cell_type": "code",
      "source": [
        "#13\n",
        "val=None\n",
        "flag=True\n",
        "if flag:\n",
        "  val=[1,2,3,4,5]\n",
        "else:\n",
        "  val='안녕하세요 파이썬!'"
      ],
      "metadata": {
        "id": "wxoJvNY4AkhV"
      },
      "execution_count": null,
      "outputs": []
    }
  ]
}