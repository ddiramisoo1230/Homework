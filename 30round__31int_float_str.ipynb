{
  "nbformat": 4,
  "nbformat_minor": 0,
  "metadata": {
    "colab": {
      "provenance": [],
      "authorship_tag": "ABX9TyMBu4qsWN+cHhb258E/7OwC",
      "include_colab_link": true
    },
    "kernelspec": {
      "name": "python3",
      "display_name": "Python 3"
    },
    "language_info": {
      "name": "python"
    }
  },
  "cells": [
    {
      "cell_type": "markdown",
      "metadata": {
        "id": "view-in-github",
        "colab_type": "text"
      },
      "source": [
        "<a href=\"https://colab.research.google.com/github/ddiramisoo1230/Homework/blob/main/30round__31int_float_str.ipynb\" target=\"_parent\"><img src=\"https://colab.research.google.com/assets/colab-badge.svg\" alt=\"Open In Colab\"/></a>"
      ]
    },
    {
      "cell_type": "code",
      "execution_count": null,
      "metadata": {
        "colab": {
          "base_uri": "https://localhost:8080/"
        },
        "id": "xkc0xSUI-SlQ",
        "outputId": "96c65dd7-b3f5-4ead-b595-e1abdc5d1ccf"
      },
      "outputs": [
        {
          "output_type": "stream",
          "name": "stdout",
          "text": [
            "42\n"
          ]
        }
      ],
      "source": [
        "#30\n",
        "ret=round(42.195)\n",
        "print(ret)"
      ]
    },
    {
      "cell_type": "code",
      "source": [
        "ret=round(42.195,0)\n",
        "print(ret)"
      ],
      "metadata": {
        "colab": {
          "base_uri": "https://localhost:8080/"
        },
        "id": "IrD7k2jf_pjj",
        "outputId": "ae8aae40-7881-4fbb-ea18-ded7b153596f"
      },
      "execution_count": null,
      "outputs": [
        {
          "output_type": "stream",
          "name": "stdout",
          "text": [
            "42.0\n"
          ]
        }
      ]
    },
    {
      "cell_type": "code",
      "source": [
        "ret=round(42.195,1)\n",
        "print(ret)"
      ],
      "metadata": {
        "colab": {
          "base_uri": "https://localhost:8080/"
        },
        "id": "ndkX_Y1mAF8O",
        "outputId": "4d897f40-1fe6-45ae-803c-0794f0101b10"
      },
      "execution_count": null,
      "outputs": [
        {
          "output_type": "stream",
          "name": "stdout",
          "text": [
            "42.2\n"
          ]
        }
      ]
    },
    {
      "cell_type": "code",
      "source": [
        "ret=round(42.195,-1)\n",
        "print(ret)"
      ],
      "metadata": {
        "colab": {
          "base_uri": "https://localhost:8080/"
        },
        "id": "2CBIbhENAL0X",
        "outputId": "9d5df6ee-8ae9-4d4f-b8d1-818256c38e47"
      },
      "execution_count": null,
      "outputs": [
        {
          "output_type": "stream",
          "name": "stdout",
          "text": [
            "40.0\n"
          ]
        }
      ]
    },
    {
      "cell_type": "code",
      "source": [
        "#31\n",
        "floatData=1234.5\n",
        "intData=int(floatData)\n",
        "print(f'intData{intData} 자료형은 {type(intData)}입니다.')"
      ],
      "metadata": {
        "colab": {
          "base_uri": "https://localhost:8080/"
        },
        "id": "cH8YwS6EAhT5",
        "outputId": "2be94f25-cae2-446d-9de0-f65d5586dd68"
      },
      "execution_count": null,
      "outputs": [
        {
          "output_type": "stream",
          "name": "stdout",
          "text": [
            "intData1234 자료형은 <class 'int'>입니다.\n"
          ]
        }
      ]
    },
    {
      "cell_type": "code",
      "source": [
        "strData='1234'\n",
        "intData=int(strData)\n",
        "print(f'intData{intData} 자료형은 {type(intData)}입니다.')"
      ],
      "metadata": {
        "colab": {
          "base_uri": "https://localhost:8080/"
        },
        "id": "PCLNkDLXCQf5",
        "outputId": "34bd0469-d07a-43b7-80fb-9dbc07632209"
      },
      "execution_count": null,
      "outputs": [
        {
          "output_type": "stream",
          "name": "stdout",
          "text": [
            "intData1234 자료형은 <class 'int'>입니다.\n"
          ]
        }
      ]
    },
    {
      "cell_type": "code",
      "source": [
        "strData='1234.5'\n",
        "intData=int(strData)"
      ],
      "metadata": {
        "colab": {
          "base_uri": "https://localhost:8080/",
          "height": 166
        },
        "id": "wCKjZISNCgRw",
        "outputId": "d05c6a13-a7c6-4e78-90db-c774b1b5f340"
      },
      "execution_count": null,
      "outputs": [
        {
          "output_type": "error",
          "ename": "ValueError",
          "evalue": "invalid literal for int() with base 10: '1234.5'",
          "traceback": [
            "\u001b[0;31m---------------------------------------------------------------------------\u001b[0m",
            "\u001b[0;31mValueError\u001b[0m                                Traceback (most recent call last)",
            "\u001b[0;32m/tmp/ipython-input-2066714721.py\u001b[0m in \u001b[0;36m<cell line: 0>\u001b[0;34m()\u001b[0m\n\u001b[1;32m      1\u001b[0m \u001b[0mstrData\u001b[0m\u001b[0;34m=\u001b[0m\u001b[0;34m'1234.5'\u001b[0m\u001b[0;34m\u001b[0m\u001b[0;34m\u001b[0m\u001b[0m\n\u001b[0;32m----> 2\u001b[0;31m \u001b[0mintData\u001b[0m\u001b[0;34m=\u001b[0m\u001b[0mint\u001b[0m\u001b[0;34m(\u001b[0m\u001b[0mstrData\u001b[0m\u001b[0;34m)\u001b[0m\u001b[0;34m\u001b[0m\u001b[0;34m\u001b[0m\u001b[0m\n\u001b[0m",
            "\u001b[0;31mValueError\u001b[0m: invalid literal for int() with base 10: '1234.5'"
          ]
        }
      ]
    },
    {
      "cell_type": "code",
      "source": [
        "strData='1234.5'\n",
        "floatData=float(strData)\n",
        "print(f'floatData{floatData} 자료형은 {type(floatData)}입니다.')"
      ],
      "metadata": {
        "colab": {
          "base_uri": "https://localhost:8080/"
        },
        "id": "87QwcoiACrSy",
        "outputId": "e47e47a8-3cc5-4c1c-9f9f-09da6806ef3d"
      },
      "execution_count": null,
      "outputs": [
        {
          "output_type": "stream",
          "name": "stdout",
          "text": [
            "floatData1234.5 자료형은 <class 'float'>입니다.\n"
          ]
        }
      ]
    },
    {
      "cell_type": "code",
      "source": [
        "print(float('2E5'))\n",
        "print(float('2e-3'))"
      ],
      "metadata": {
        "colab": {
          "base_uri": "https://localhost:8080/"
        },
        "id": "V_DMBmh4C_6X",
        "outputId": "6dd3713f-60e4-4f43-faf1-4756c7298d76"
      },
      "execution_count": null,
      "outputs": [
        {
          "output_type": "stream",
          "name": "stdout",
          "text": [
            "200000.0\n",
            "0.002\n"
          ]
        }
      ]
    },
    {
      "cell_type": "code",
      "source": [
        "intData=1234; strData1=str(intData)\n",
        "floatData1=1234.5; strData2=str(floatData1)\n",
        "floatData2=1e-3;strData3=str(floatData2)\n",
        "print(f'정수 {intData} =>문자열 {strData1},{type(strData1)}')\n",
        "print(f'실수 {floatData1} =>문자열 {strData2},{type(strData2)}')\n",
        "print(f'실수 {floatData2} =>문자열 {strData3},{type(strData3)}')"
      ],
      "metadata": {
        "colab": {
          "base_uri": "https://localhost:8080/"
        },
        "id": "mc7Q-hDSDKAC",
        "outputId": "9cf084ce-8bfd-4c69-ab8f-62194c633ae4"
      },
      "execution_count": null,
      "outputs": [
        {
          "output_type": "stream",
          "name": "stdout",
          "text": [
            "정수 1234 =>문자열 1234,<class 'str'>\n",
            "실수 1234.5 =>문자열 1234.5,<class 'str'>\n",
            "실수 0.001 =>문자열 0.001,<class 'str'>\n"
          ]
        }
      ]
    }
  ]
}