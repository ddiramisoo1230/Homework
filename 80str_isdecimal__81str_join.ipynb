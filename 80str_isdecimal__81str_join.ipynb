{
  "nbformat": 4,
  "nbformat_minor": 0,
  "metadata": {
    "colab": {
      "provenance": [],
      "authorship_tag": "ABX9TyPXgK4ejgSDiDrldESmQl9f",
      "include_colab_link": true
    },
    "kernelspec": {
      "name": "python3",
      "display_name": "Python 3"
    },
    "language_info": {
      "name": "python"
    }
  },
  "cells": [
    {
      "cell_type": "markdown",
      "metadata": {
        "id": "view-in-github",
        "colab_type": "text"
      },
      "source": [
        "<a href=\"https://colab.research.google.com/github/ddiramisoo1230/Homework/blob/main/80str_isdecimal__81str_join.ipynb\" target=\"_parent\"><img src=\"https://colab.research.google.com/assets/colab-badge.svg\" alt=\"Open In Colab\"/></a>"
      ]
    },
    {
      "cell_type": "code",
      "execution_count": null,
      "metadata": {
        "id": "b_j3_j_2XREe"
      },
      "outputs": [],
      "source": [
        "#80\n",
        "numbers=['1004','-1','3.14','IX','50%']"
      ]
    },
    {
      "cell_type": "code",
      "source": [
        "for number in numbers:\n",
        "  print(f'\"{number}\"/t-->{number.isdecimal()}')"
      ],
      "metadata": {
        "colab": {
          "base_uri": "https://localhost:8080/"
        },
        "id": "I_DtPxdaXyHM",
        "outputId": "6e1e6179-4a30-40c0-edaa-ca6efb32d643"
      },
      "execution_count": null,
      "outputs": [
        {
          "output_type": "stream",
          "name": "stdout",
          "text": [
            "\"1004\"/t-->True\n",
            "\"-1\"/t-->False\n",
            "\"3.14\"/t-->False\n",
            "\"IX\"/t-->False\n",
            "\"50%\"/t-->False\n"
          ]
        }
      ]
    },
    {
      "cell_type": "code",
      "source": [
        "for number in numbers:\n",
        "  print(f'\"{number}\"/t-->{number.isdigit()}')"
      ],
      "metadata": {
        "colab": {
          "base_uri": "https://localhost:8080/"
        },
        "id": "rNBjkzSeX-nA",
        "outputId": "964edbd8-e6fd-4d82-9820-0105987424b4"
      },
      "execution_count": null,
      "outputs": [
        {
          "output_type": "stream",
          "name": "stdout",
          "text": [
            "\"1004\"/t-->True\n",
            "\"-1\"/t-->False\n",
            "\"3.14\"/t-->False\n",
            "\"IX\"/t-->False\n",
            "\"50%\"/t-->False\n"
          ]
        }
      ]
    },
    {
      "cell_type": "code",
      "source": [
        "for number in numbers:\n",
        "  print(f'\"{number}\" /t--> {number.isnumeric()}')"
      ],
      "metadata": {
        "colab": {
          "base_uri": "https://localhost:8080/"
        },
        "id": "cY8-7_UJYKgj",
        "outputId": "61a318f4-8590-4607-8bbe-509875959154"
      },
      "execution_count": null,
      "outputs": [
        {
          "output_type": "stream",
          "name": "stdout",
          "text": [
            "\"1004\" /t--> True\n",
            "\"-1\" /t--> False\n",
            "\"3.14\" /t--> False\n",
            "\"IX\" /t--> False\n",
            "\"50%\" /t--> False\n"
          ]
        }
      ]
    },
    {
      "cell_type": "code",
      "source": [
        "#81\n",
        "profile=['홍길동','남자','18세','도적','초능력자']\n",
        "logData=';'.join(profile)\n",
        "print(logData)"
      ],
      "metadata": {
        "colab": {
          "base_uri": "https://localhost:8080/"
        },
        "id": "olhhUQbXYXAO",
        "outputId": "df434d82-ac2f-4eaf-856d-a71fce4f1b32"
      },
      "execution_count": null,
      "outputs": [
        {
          "output_type": "stream",
          "name": "stdout",
          "text": [
            "홍길동;남자;18세;도적;초능력자\n"
          ]
        }
      ]
    },
    {
      "cell_type": "code",
      "source": [
        "profile=['홍길동','남자',18,'도적','초능력자']\n",
        "logData=';'.join(profile)"
      ],
      "metadata": {
        "colab": {
          "base_uri": "https://localhost:8080/",
          "height": 167
        },
        "id": "Z5FbW9ZCYjjf",
        "outputId": "d6c4c228-a341-4011-d0e3-e7c17144a2f1"
      },
      "execution_count": null,
      "outputs": [
        {
          "output_type": "error",
          "ename": "TypeError",
          "evalue": "sequence item 2: expected str instance, int found",
          "traceback": [
            "\u001b[0;31m---------------------------------------------------------------------------\u001b[0m",
            "\u001b[0;31mTypeError\u001b[0m                                 Traceback (most recent call last)",
            "\u001b[0;32m/tmp/ipython-input-4170307000.py\u001b[0m in \u001b[0;36m<cell line: 0>\u001b[0;34m()\u001b[0m\n\u001b[1;32m      1\u001b[0m \u001b[0mprofile\u001b[0m\u001b[0;34m=\u001b[0m\u001b[0;34m[\u001b[0m\u001b[0;34m'홍길동'\u001b[0m\u001b[0;34m,\u001b[0m\u001b[0;34m'남자'\u001b[0m\u001b[0;34m,\u001b[0m\u001b[0;36m18\u001b[0m\u001b[0;34m,\u001b[0m\u001b[0;34m'도적'\u001b[0m\u001b[0;34m,\u001b[0m\u001b[0;34m'초능력자'\u001b[0m\u001b[0;34m]\u001b[0m\u001b[0;34m\u001b[0m\u001b[0;34m\u001b[0m\u001b[0m\n\u001b[0;32m----> 2\u001b[0;31m \u001b[0mlogData\u001b[0m\u001b[0;34m=\u001b[0m\u001b[0;34m';'\u001b[0m\u001b[0;34m.\u001b[0m\u001b[0mjoin\u001b[0m\u001b[0;34m(\u001b[0m\u001b[0mprofile\u001b[0m\u001b[0;34m)\u001b[0m\u001b[0;34m\u001b[0m\u001b[0;34m\u001b[0m\u001b[0m\n\u001b[0m",
            "\u001b[0;31mTypeError\u001b[0m: sequence item 2: expected str instance, int found"
          ]
        }
      ]
    }
  ]
}