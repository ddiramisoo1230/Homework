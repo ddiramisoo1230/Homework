{
  "nbformat": 4,
  "nbformat_minor": 0,
  "metadata": {
    "colab": {
      "provenance": [],
      "authorship_tag": "ABX9TyNKU+8Xwu0D/w0igrZcmApy",
      "include_colab_link": true
    },
    "kernelspec": {
      "name": "python3",
      "display_name": "Python 3"
    },
    "language_info": {
      "name": "python"
    }
  },
  "cells": [
    {
      "cell_type": "markdown",
      "metadata": {
        "id": "view-in-github",
        "colab_type": "text"
      },
      "source": [
        "<a href=\"https://colab.research.google.com/github/ddiramisoo1230/Homework/blob/main/80str_isdecimal__81str_join.ipynb\" target=\"_parent\"><img src=\"https://colab.research.google.com/assets/colab-badge.svg\" alt=\"Open In Colab\"/></a>"
      ]
    },
    {
      "cell_type": "code",
      "execution_count": null,
      "metadata": {
        "id": "mKKejT5_NE5Z"
      },
      "outputs": [],
      "source": [
        "#80\n",
        "numbers=['1004','-1','3.14','IX','50%']\n"
      ]
    },
    {
      "cell_type": "code",
      "source": [
        "for number in numbers:\n",
        "  print(f'\"{number}\"/t--> {number.isdecimal()}')"
      ],
      "metadata": {
        "colab": {
          "base_uri": "https://localhost:8080/"
        },
        "id": "nh3RNyQhNj7y",
        "outputId": "39487747-2b3e-40bf-dd1b-e0a13c3df2b4"
      },
      "execution_count": null,
      "outputs": [
        {
          "output_type": "stream",
          "name": "stdout",
          "text": [
            "\"1004\"/t--> True\n",
            "\"-1\"/t--> False\n",
            "\"3.14\"/t--> False\n",
            "\"IX\"/t--> False\n",
            "\"50%\"/t--> False\n"
          ]
        }
      ]
    },
    {
      "cell_type": "code",
      "source": [
        "for number in numbers:\n",
        "  print(f'\"{number}\"/t--> {number.isdigit()}')"
      ],
      "metadata": {
        "colab": {
          "base_uri": "https://localhost:8080/"
        },
        "id": "bH-TYyGqNvF3",
        "outputId": "b58c85e6-9480-41db-c831-4ea4de1cf741"
      },
      "execution_count": null,
      "outputs": [
        {
          "output_type": "stream",
          "name": "stdout",
          "text": [
            "\"1004\"/t--> True\n",
            "\"-1\"/t--> False\n",
            "\"3.14\"/t--> False\n",
            "\"IX\"/t--> False\n",
            "\"50%\"/t--> False\n"
          ]
        }
      ]
    },
    {
      "cell_type": "code",
      "source": [
        "for number in numbers:\n",
        "  print(f'\"{number}\"/t-->{number.isnumeric()}')"
      ],
      "metadata": {
        "colab": {
          "base_uri": "https://localhost:8080/"
        },
        "id": "5yAg4MlwN6iD",
        "outputId": "d81f98ab-6149-4efa-9218-15002712e2ae"
      },
      "execution_count": null,
      "outputs": [
        {
          "output_type": "stream",
          "name": "stdout",
          "text": [
            "\"1004\"/t-->True\n",
            "\"-1\"/t-->False\n",
            "\"3.14\"/t-->False\n",
            "\"IX\"/t-->False\n",
            "\"50%\"/t-->False\n"
          ]
        }
      ]
    },
    {
      "cell_type": "code",
      "source": [
        "#81\n",
        "profile=['홍길동','남자','18세','도적','초능력자']\n",
        "logData=';'.join(profile)\n",
        "print(logData)"
      ],
      "metadata": {
        "colab": {
          "base_uri": "https://localhost:8080/"
        },
        "id": "f0x0c1HLOFY7",
        "outputId": "fc6ec38e-4221-403d-81e7-acea0c7b1d3d"
      },
      "execution_count": null,
      "outputs": [
        {
          "output_type": "stream",
          "name": "stdout",
          "text": [
            "홍길동;남자;18세;도적;초능력자\n"
          ]
        }
      ]
    },
    {
      "cell_type": "code",
      "source": [
        "profile=['홍길동','남자',18,'도적','초능력자']\n",
        "logData=';'.join(profile)"
      ],
      "metadata": {
        "colab": {
          "base_uri": "https://localhost:8080/",
          "height": 167
        },
        "id": "7LDXpp3eOicP",
        "outputId": "101f9bf5-d654-4bce-a7c5-ac80c080ace5"
      },
      "execution_count": null,
      "outputs": [
        {
          "output_type": "error",
          "ename": "TypeError",
          "evalue": "sequence item 2: expected str instance, int found",
          "traceback": [
            "\u001b[0;31m---------------------------------------------------------------------------\u001b[0m",
            "\u001b[0;31mTypeError\u001b[0m                                 Traceback (most recent call last)",
            "\u001b[0;32m/tmp/ipython-input-4170307000.py\u001b[0m in \u001b[0;36m<cell line: 0>\u001b[0;34m()\u001b[0m\n\u001b[1;32m      1\u001b[0m \u001b[0mprofile\u001b[0m\u001b[0;34m=\u001b[0m\u001b[0;34m[\u001b[0m\u001b[0;34m'홍길동'\u001b[0m\u001b[0;34m,\u001b[0m\u001b[0;34m'남자'\u001b[0m\u001b[0;34m,\u001b[0m\u001b[0;36m18\u001b[0m\u001b[0;34m,\u001b[0m\u001b[0;34m'도적'\u001b[0m\u001b[0;34m,\u001b[0m\u001b[0;34m'초능력자'\u001b[0m\u001b[0;34m]\u001b[0m\u001b[0;34m\u001b[0m\u001b[0;34m\u001b[0m\u001b[0m\n\u001b[0;32m----> 2\u001b[0;31m \u001b[0mlogData\u001b[0m\u001b[0;34m=\u001b[0m\u001b[0;34m';'\u001b[0m\u001b[0;34m.\u001b[0m\u001b[0mjoin\u001b[0m\u001b[0;34m(\u001b[0m\u001b[0mprofile\u001b[0m\u001b[0;34m)\u001b[0m\u001b[0;34m\u001b[0m\u001b[0;34m\u001b[0m\u001b[0m\n\u001b[0m",
            "\u001b[0;31mTypeError\u001b[0m: sequence item 2: expected str instance, int found"
          ]
        }
      ]
    }
  ]
}