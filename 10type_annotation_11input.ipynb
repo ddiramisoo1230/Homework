{
  "nbformat": 4,
  "nbformat_minor": 0,
  "metadata": {
    "colab": {
      "provenance": [],
      "authorship_tag": "ABX9TyOl1b4lU4hdbLys6S1fjDzx",
      "include_colab_link": true
    },
    "kernelspec": {
      "name": "python3",
      "display_name": "Python 3"
    },
    "language_info": {
      "name": "python"
    }
  },
  "cells": [
    {
      "cell_type": "markdown",
      "metadata": {
        "id": "view-in-github",
        "colab_type": "text"
      },
      "source": [
        "<a href=\"https://colab.research.google.com/github/ddiramisoo1230/Homework/blob/main/10type_annotation_11input.ipynb\" target=\"_parent\"><img src=\"https://colab.research.google.com/assets/colab-badge.svg\" alt=\"Open In Colab\"/></a>"
      ]
    },
    {
      "cell_type": "code",
      "execution_count": null,
      "metadata": {
        "id": "YpbUE696nlN5"
      },
      "outputs": [],
      "source": [
        "#10\n",
        "name='홍길동'\n",
        "age=17\n",
        "weight=70.7\n",
        "is_badman=False"
      ]
    },
    {
      "cell_type": "code",
      "source": [
        "name:str='홍길동'\n",
        "age:int=17\n",
        "weight:float=70.7\n",
        "is_badman:bool=False"
      ],
      "metadata": {
        "id": "88nQ74O-oZlC"
      },
      "execution_count": null,
      "outputs": []
    },
    {
      "cell_type": "code",
      "source": [
        "booklist:list[str]=['삼국지','수호지','초한지']"
      ],
      "metadata": {
        "id": "RKsWSXdXon-e"
      },
      "execution_count": null,
      "outputs": []
    },
    {
      "cell_type": "code",
      "source": [
        "island:tuple[str,float,float]=('독도',131.52,37.14)"
      ],
      "metadata": {
        "id": "rH46e0Bbo7aF"
      },
      "execution_count": null,
      "outputs": []
    },
    {
      "cell_type": "code",
      "source": [
        "top4_familyname:dict[str,int]={'김씨':123456,'나씨':345811,'박씨':963123,'이씨':865909}"
      ],
      "metadata": {
        "id": "7HfJ3qikpT7p"
      },
      "execution_count": null,
      "outputs": []
    },
    {
      "cell_type": "code",
      "source": [
        "fruits:set[str]={'사과','배','수박','참외','딸기'}"
      ],
      "metadata": {
        "id": "-2SGCJziqMiu"
      },
      "execution_count": null,
      "outputs": []
    },
    {
      "cell_type": "code",
      "source": [
        "print(__annotaions__)"
      ],
      "metadata": {
        "colab": {
          "base_uri": "https://localhost:8080/",
          "height": 147
        },
        "id": "gQAF8_nGqp1g",
        "outputId": "34c5b57b-c3e4-43ed-a565-accc4d83df3c"
      },
      "execution_count": null,
      "outputs": [
        {
          "output_type": "error",
          "ename": "NameError",
          "evalue": "name '__annotaions__' is not defined",
          "traceback": [
            "\u001b[0;31m---------------------------------------------------------------------------\u001b[0m",
            "\u001b[0;31mNameError\u001b[0m                                 Traceback (most recent call last)",
            "\u001b[0;32m/tmp/ipython-input-2970393879.py\u001b[0m in \u001b[0;36m<cell line: 0>\u001b[0;34m()\u001b[0m\n\u001b[0;32m----> 1\u001b[0;31m \u001b[0mprint\u001b[0m\u001b[0;34m(\u001b[0m\u001b[0m__annotaions__\u001b[0m\u001b[0;34m)\u001b[0m\u001b[0;34m\u001b[0m\u001b[0;34m\u001b[0m\u001b[0m\n\u001b[0m",
            "\u001b[0;31mNameError\u001b[0m: name '__annotaions__' is not defined"
          ]
        }
      ]
    },
    {
      "cell_type": "code",
      "source": [
        "fruits:set[str]={'사과','배','수박','참외','딸기'}\n",
        "fruits={1,2,3,4,5}\n",
        "print(fruits)"
      ],
      "metadata": {
        "colab": {
          "base_uri": "https://localhost:8080/"
        },
        "id": "MItAoDcSrBvh",
        "outputId": "732c8887-7448-4955-9b94-1317ec193cc1"
      },
      "execution_count": null,
      "outputs": [
        {
          "output_type": "stream",
          "name": "stdout",
          "text": [
            "{1, 2, 3, 4, 5}\n"
          ]
        }
      ]
    },
    {
      "cell_type": "code",
      "source": [
        "#11\n",
        "userInput=input()\n",
        "print('사용자가 입력한 값은 <'+ userInput +'>입니다.')"
      ],
      "metadata": {
        "colab": {
          "base_uri": "https://localhost:8080/"
        },
        "id": "31jyfGGCrsOM",
        "outputId": "cebcf37b-6eb9-49a1-f7fc-a3b97a68503c"
      },
      "execution_count": null,
      "outputs": [
        {
          "output_type": "stream",
          "name": "stdout",
          "text": [
            "2\n",
            "사용자가 입력한 값은 <2>입니다.\n"
          ]
        }
      ]
    },
    {
      "cell_type": "code",
      "source": [
        "userInput=input('값을 입력하세요:')\n",
        "print('사용자가 입력한 값은<'+ userInput +'>입니다.')"
      ],
      "metadata": {
        "colab": {
          "base_uri": "https://localhost:8080/"
        },
        "id": "thEV0-A5rvvG",
        "outputId": "af203399-2c7c-40a8-96b9-bac502fa6c62"
      },
      "execution_count": null,
      "outputs": [
        {
          "output_type": "stream",
          "name": "stdout",
          "text": [
            "값을 입력하세요:7\n",
            "사용자가 입력한 값은<7>입니다.\n"
          ]
        }
      ]
    }
  ]
}