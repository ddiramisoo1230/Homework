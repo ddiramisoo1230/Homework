{
  "nbformat": 4,
  "nbformat_minor": 0,
  "metadata": {
    "colab": {
      "provenance": [],
      "authorship_tag": "ABX9TyNril1Hb6Et5Hu42FZZQHRK",
      "include_colab_link": true
    },
    "kernelspec": {
      "name": "python3",
      "display_name": "Python 3"
    },
    "language_info": {
      "name": "python"
    }
  },
  "cells": [
    {
      "cell_type": "markdown",
      "metadata": {
        "id": "view-in-github",
        "colab_type": "text"
      },
      "source": [
        "<a href=\"https://colab.research.google.com/github/ddiramisoo1230/Homework/blob/main/76f__77str_format.ipynb\" target=\"_parent\"><img src=\"https://colab.research.google.com/assets/colab-badge.svg\" alt=\"Open In Colab\"/></a>"
      ]
    },
    {
      "cell_type": "code",
      "execution_count": null,
      "metadata": {
        "colab": {
          "base_uri": "https://localhost:8080/"
        },
        "id": "fYXb14WnDJDH",
        "outputId": "38f5f77f-3c10-4693-9ea3-b62fc5ee539e"
      },
      "outputs": [
        {
          "output_type": "stream",
          "name": "stdout",
          "text": [
            "원주율의 근사값은 3.141592입니다.\n"
          ]
        }
      ],
      "source": [
        "#76\n",
        "title='원주율'\n",
        "pi=3.141592\n",
        "print(f'{title}의 근사값은 {pi}입니다.')"
      ]
    },
    {
      "cell_type": "code",
      "source": [
        "print(f'{title}의 근사값은 {pi:.2f}입니다.')"
      ],
      "metadata": {
        "colab": {
          "base_uri": "https://localhost:8080/"
        },
        "id": "l8G-sef7Did3",
        "outputId": "76aef931-98dd-4f77-ea2b-5e9d596295f1"
      },
      "execution_count": null,
      "outputs": [
        {
          "output_type": "stream",
          "name": "stdout",
          "text": [
            "원주율의 근사값은 3.14입니다.\n"
          ]
        }
      ]
    },
    {
      "cell_type": "code",
      "source": [
        "city='서울'\n",
        "population=8789911\n",
        "print(f'{city}:{population:,d}명')"
      ],
      "metadata": {
        "colab": {
          "base_uri": "https://localhost:8080/"
        },
        "id": "rL6YHMrODqL1",
        "outputId": "9f017e5a-606c-4c8b-896a-705b30c0fd29"
      },
      "execution_count": null,
      "outputs": [
        {
          "output_type": "stream",
          "name": "stdout",
          "text": [
            "서울:8,789,911명\n"
          ]
        }
      ]
    },
    {
      "cell_type": "code",
      "source": [
        "print(f'{city}:{population=:,d}명')"
      ],
      "metadata": {
        "colab": {
          "base_uri": "https://localhost:8080/"
        },
        "id": "oFm8wcNbD6Ln",
        "outputId": "f2cc1581-58d1-4ec5-c775-644024b1cf4d"
      },
      "execution_count": null,
      "outputs": [
        {
          "output_type": "stream",
          "name": "stdout",
          "text": [
            "서울:population=8,789,911명\n"
          ]
        }
      ]
    },
    {
      "cell_type": "code",
      "source": [
        "#77\n",
        "pi=3.141592\n",
        "text='{}의 근사값은 {}입니다.'.format('원주율',pi)\n",
        "print(text)"
      ],
      "metadata": {
        "colab": {
          "base_uri": "https://localhost:8080/"
        },
        "id": "VuiFgV18EBrg",
        "outputId": "adb9c08e-8e75-4a06-f3ac-f1d91c731261"
      },
      "execution_count": null,
      "outputs": [
        {
          "output_type": "stream",
          "name": "stdout",
          "text": [
            "원주율의 근사값은 3.141592입니다.\n"
          ]
        }
      ]
    },
    {
      "cell_type": "code",
      "source": [
        "print('{}의 근사값은 {:2f} 입니다.'.format('원주율',pi))"
      ],
      "metadata": {
        "colab": {
          "base_uri": "https://localhost:8080/"
        },
        "id": "j6v1_yL6EQOX",
        "outputId": "5f04b778-9da4-49b1-d549-ed61942ac675"
      },
      "execution_count": null,
      "outputs": [
        {
          "output_type": "stream",
          "name": "stdout",
          "text": [
            "원주율의 근사값은 3.141592 입니다.\n"
          ]
        }
      ]
    },
    {
      "cell_type": "code",
      "source": [
        "population=8789911\n",
        "text='{}:{:,d} 명'.format('서울',population)\n",
        "print(text)"
      ],
      "metadata": {
        "colab": {
          "base_uri": "https://localhost:8080/"
        },
        "id": "Ksg6VrM9Ea6Y",
        "outputId": "71d10687-482e-4ff0-f073-234f7b93a899"
      },
      "execution_count": null,
      "outputs": [
        {
          "output_type": "stream",
          "name": "stdout",
          "text": [
            "서울:8,789,911 명\n"
          ]
        }
      ]
    }
  ]
}