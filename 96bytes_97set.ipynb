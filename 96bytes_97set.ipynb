{
  "nbformat": 4,
  "nbformat_minor": 0,
  "metadata": {
    "colab": {
      "provenance": [],
      "authorship_tag": "ABX9TyPzDdv/qIhHBcDAbyPC7Dk8",
      "include_colab_link": true
    },
    "kernelspec": {
      "name": "python3",
      "display_name": "Python 3"
    },
    "language_info": {
      "name": "python"
    }
  },
  "cells": [
    {
      "cell_type": "markdown",
      "metadata": {
        "id": "view-in-github",
        "colab_type": "text"
      },
      "source": [
        "<a href=\"https://colab.research.google.com/github/ddiramisoo1230/Homework/blob/main/96bytes_97set.ipynb\" target=\"_parent\"><img src=\"https://colab.research.google.com/assets/colab-badge.svg\" alt=\"Open In Colab\"/></a>"
      ]
    },
    {
      "cell_type": "code",
      "execution_count": null,
      "metadata": {
        "colab": {
          "base_uri": "https://localhost:8080/"
        },
        "id": "ixGqpFy42RZp",
        "outputId": "9fa55166-4d92-42c4-ebbe-3b335f182e5a"
      },
      "outputs": [
        {
          "output_type": "stream",
          "name": "stdout",
          "text": [
            "b'ABcdef'\n"
          ]
        }
      ],
      "source": [
        "#96\n",
        "bytesData=b'abcdef'\n",
        "data=bytesData.replace(b'ab',b'AB')\n",
        "print(data)"
      ]
    },
    {
      "cell_type": "code",
      "source": [
        "bytesData=b'abcdefabcdef'\n",
        "idx1=bytesData.find(b'e')\n",
        "idx2=bytesData.find(b'e',idx1+1)\n",
        "print(idx1,idx2)"
      ],
      "metadata": {
        "colab": {
          "base_uri": "https://localhost:8080/"
        },
        "id": "UOF7bzyH2mKd",
        "outputId": "2141a63f-a0a9-469f-d970-f8ee64b14b05"
      },
      "execution_count": null,
      "outputs": [
        {
          "output_type": "stream",
          "name": "stdout",
          "text": [
            "4 10\n"
          ]
        }
      ]
    },
    {
      "cell_type": "code",
      "source": [
        "bytesData=b'abcdef'\n",
        "bytesData=bytesData.strip()\n",
        "print(bytesData)"
      ],
      "metadata": {
        "colab": {
          "base_uri": "https://localhost:8080/"
        },
        "id": "F583lKhY20D1",
        "outputId": "2062efc3-4c15-4680-f16f-a1ef5e84ba56"
      },
      "execution_count": null,
      "outputs": [
        {
          "output_type": "stream",
          "name": "stdout",
          "text": [
            "b'abcdef'\n"
          ]
        }
      ]
    },
    {
      "cell_type": "code",
      "source": [
        "#97\n",
        "setData={'사과','배','사과','수박','오렌지'}\n",
        "print(setData)"
      ],
      "metadata": {
        "colab": {
          "base_uri": "https://localhost:8080/"
        },
        "id": "Gx6VpSXx3AQ8",
        "outputId": "21840c6b-501f-4d7b-c264-0f177d457def"
      },
      "execution_count": null,
      "outputs": [
        {
          "output_type": "stream",
          "name": "stdout",
          "text": [
            "{'사과', '오렌지', '수박', '배'}\n"
          ]
        }
      ]
    },
    {
      "cell_type": "code",
      "source": [
        "print(setData)"
      ],
      "metadata": {
        "colab": {
          "base_uri": "https://localhost:8080/"
        },
        "id": "tZMcUNwH3JTA",
        "outputId": "702e32df-b7cb-4595-92ef-af1b3e9a77a1"
      },
      "execution_count": null,
      "outputs": [
        {
          "output_type": "stream",
          "name": "stdout",
          "text": [
            "{'사과', '오렌지', '수박', '배'}\n"
          ]
        }
      ]
    },
    {
      "cell_type": "code",
      "source": [
        "strData='abcabccdef'\n",
        "setData=set(strData)\n",
        "print(setData)"
      ],
      "metadata": {
        "colab": {
          "base_uri": "https://localhost:8080/"
        },
        "id": "ayuyBYiL3MDo",
        "outputId": "61cf0aff-93bb-4b2f-e0e1-c96b45403972"
      },
      "execution_count": null,
      "outputs": [
        {
          "output_type": "stream",
          "name": "stdout",
          "text": [
            "{'a', 'd', 'e', 'c', 'f', 'b'}\n"
          ]
        }
      ]
    },
    {
      "cell_type": "code",
      "source": [
        "fruits=('사과','배','수박','사과','오렌지')\n",
        "setData=set(fruits)\n",
        "print(setData)"
      ],
      "metadata": {
        "colab": {
          "base_uri": "https://localhost:8080/"
        },
        "id": "z5gT0f8B3UIr",
        "outputId": "155a214b-679d-42f3-eeba-99db85b8a5e6"
      },
      "execution_count": null,
      "outputs": [
        {
          "output_type": "stream",
          "name": "stdout",
          "text": [
            "{'사과', '오렌지', '수박', '배'}\n"
          ]
        }
      ]
    }
  ]
}