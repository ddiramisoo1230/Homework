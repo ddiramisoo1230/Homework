{
  "nbformat": 4,
  "nbformat_minor": 0,
  "metadata": {
    "colab": {
      "provenance": [],
      "authorship_tag": "ABX9TyNG3uc4RibB4jXR842gNv1t",
      "include_colab_link": true
    },
    "kernelspec": {
      "name": "python3",
      "display_name": "Python 3"
    },
    "language_info": {
      "name": "python"
    }
  },
  "cells": [
    {
      "cell_type": "markdown",
      "metadata": {
        "id": "view-in-github",
        "colab_type": "text"
      },
      "source": [
        "<a href=\"https://colab.research.google.com/github/ddiramisoo1230/Homework/blob/main/64list_pop__65list_reverse.ipynb\" target=\"_parent\"><img src=\"https://colab.research.google.com/assets/colab-badge.svg\" alt=\"Open In Colab\"/></a>"
      ]
    },
    {
      "cell_type": "code",
      "execution_count": null,
      "metadata": {
        "colab": {
          "base_uri": "https://localhost:8080/"
        },
        "id": "vCkzkSl9g9An",
        "outputId": "84e60f62-6904-4eb1-a686-feb850c27390"
      },
      "outputs": [
        {
          "output_type": "stream",
          "name": "stdout",
          "text": [
            "pop()으로 추출된 값:43,numbers=[14, 5, 18, 45, 10]\n",
            "pop()으로 추출된 값:10,numbers=[14, 5, 18, 45]\n",
            "pop()으로 추출된 값:45,numbers=[14, 5, 18]\n",
            "pop()으로 추출된 값:18,numbers=[14, 5]\n",
            "pop()으로 추출된 값:5,numbers=[14]\n",
            "pop()으로 추출된 값:14,numbers=[]\n"
          ]
        }
      ],
      "source": [
        "#64\n",
        "numbers=[14,5,18,45,10,43]\n",
        "for _ in range(len(numbers)):\n",
        "  ret=numbers.pop()\n",
        "  print(f'pop()으로 추출된 값:{ret},numbers={numbers}')"
      ]
    },
    {
      "cell_type": "code",
      "source": [
        "numbers=[14,5,18,45,10,43]\n",
        "ret=numbers.pop(3)\n",
        "print(f'pop()으로 추출된 값:{ret},numbers={numbers}')"
      ],
      "metadata": {
        "colab": {
          "base_uri": "https://localhost:8080/"
        },
        "id": "z1ACChJPhbPP",
        "outputId": "26f2d817-58e8-4fd0-e5c2-a4cb046c56ef"
      },
      "execution_count": null,
      "outputs": [
        {
          "output_type": "stream",
          "name": "stdout",
          "text": [
            "pop()으로 추출된 값:45,numbers=[14, 5, 18, 10, 43]\n"
          ]
        }
      ]
    },
    {
      "cell_type": "code",
      "source": [
        "#65\n",
        "numbers=[1,2,3,4,5]\n",
        "ret=reversed(numbers)\n",
        "print(list(ret))\n",
        "print(numbers)"
      ],
      "metadata": {
        "colab": {
          "base_uri": "https://localhost:8080/"
        },
        "id": "2vkdYK3RhopA",
        "outputId": "37d0f37b-f9c3-4cfc-85ae-f685e486f8b5"
      },
      "execution_count": null,
      "outputs": [
        {
          "output_type": "stream",
          "name": "stdout",
          "text": [
            "[5, 4, 3, 2, 1]\n",
            "[1, 2, 3, 4, 5]\n"
          ]
        }
      ]
    },
    {
      "cell_type": "code",
      "source": [
        "numbers=[1,2,3,4,5]\n",
        "numbers.reverse()\n",
        "print(numbers)"
      ],
      "metadata": {
        "colab": {
          "base_uri": "https://localhost:8080/"
        },
        "id": "dBg82rIAhzmF",
        "outputId": "e015a00f-aa57-4bb8-fd6d-451c7fe71098"
      },
      "execution_count": null,
      "outputs": [
        {
          "output_type": "stream",
          "name": "stdout",
          "text": [
            "[5, 4, 3, 2, 1]\n"
          ]
        }
      ]
    }
  ]
}