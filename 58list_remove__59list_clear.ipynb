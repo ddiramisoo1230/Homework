{
  "nbformat": 4,
  "nbformat_minor": 0,
  "metadata": {
    "colab": {
      "provenance": [],
      "authorship_tag": "ABX9TyPjwZhtJlQCh/xigXbKTJID",
      "include_colab_link": true
    },
    "kernelspec": {
      "name": "python3",
      "display_name": "Python 3"
    },
    "language_info": {
      "name": "python"
    }
  },
  "cells": [
    {
      "cell_type": "markdown",
      "metadata": {
        "id": "view-in-github",
        "colab_type": "text"
      },
      "source": [
        "<a href=\"https://colab.research.google.com/github/ddiramisoo1230/Homework/blob/main/58list_remove__59list_clear.ipynb\" target=\"_parent\"><img src=\"https://colab.research.google.com/assets/colab-badge.svg\" alt=\"Open In Colab\"/></a>"
      ]
    },
    {
      "cell_type": "code",
      "execution_count": null,
      "metadata": {
        "colab": {
          "base_uri": "https://localhost:8080/"
        },
        "id": "WLY3wftJMPc3",
        "outputId": "d6846e95-8e59-49ae-c91d-9b6d14ff65d8"
      },
      "outputs": [
        {
          "output_type": "stream",
          "name": "stdout",
          "text": [
            "[1, 3, 1, 1, 5, 6, 2, 0, 7]\n"
          ]
        }
      ],
      "source": [
        "#58\n",
        "numbers=[1,1,3,1,1,5,6,2,0,7]\n",
        "if 1 in numbers:\n",
        "  numbers.remove(1)\n",
        "print(numbers)"
      ]
    },
    {
      "cell_type": "code",
      "source": [
        "numbers=[1,1,3,1,1,5,6,2,0,7]\n",
        "while 1 in numbers:\n",
        "  numbers.remove(1)\n",
        "print(numbers)"
      ],
      "metadata": {
        "colab": {
          "base_uri": "https://localhost:8080/"
        },
        "id": "f1za8rTIMmie",
        "outputId": "c620ce55-e23b-4819-f232-9123f5dfb9a5"
      },
      "execution_count": null,
      "outputs": [
        {
          "output_type": "stream",
          "name": "stdout",
          "text": [
            "[3, 5, 6, 2, 0, 7]\n"
          ]
        }
      ]
    },
    {
      "cell_type": "code",
      "source": [
        "fruits['사과','배','오렌지','수박','참외']\n",
        "fruits.remove('딸기')"
      ],
      "metadata": {
        "colab": {
          "base_uri": "https://localhost:8080/",
          "height": 167
        },
        "id": "rV-20owCMxO-",
        "outputId": "1a9d7896-eb2d-4599-93ed-b23f8976bff8"
      },
      "execution_count": null,
      "outputs": [
        {
          "output_type": "error",
          "ename": "NameError",
          "evalue": "name 'fruits' is not defined",
          "traceback": [
            "\u001b[0;31m---------------------------------------------------------------------------\u001b[0m",
            "\u001b[0;31mNameError\u001b[0m                                 Traceback (most recent call last)",
            "\u001b[0;32m/tmp/ipython-input-3457668441.py\u001b[0m in \u001b[0;36m<cell line: 0>\u001b[0;34m()\u001b[0m\n\u001b[0;32m----> 1\u001b[0;31m \u001b[0mfruits\u001b[0m\u001b[0;34m[\u001b[0m\u001b[0;34m'사과'\u001b[0m\u001b[0;34m,\u001b[0m\u001b[0;34m'배'\u001b[0m\u001b[0;34m,\u001b[0m\u001b[0;34m'오렌지'\u001b[0m\u001b[0;34m,\u001b[0m\u001b[0;34m'수박'\u001b[0m\u001b[0;34m,\u001b[0m\u001b[0;34m'참외'\u001b[0m\u001b[0;34m]\u001b[0m\u001b[0;34m\u001b[0m\u001b[0;34m\u001b[0m\u001b[0m\n\u001b[0m\u001b[1;32m      2\u001b[0m \u001b[0mfruits\u001b[0m\u001b[0;34m.\u001b[0m\u001b[0mremove\u001b[0m\u001b[0;34m(\u001b[0m\u001b[0;34m'딸기'\u001b[0m\u001b[0;34m)\u001b[0m\u001b[0;34m\u001b[0m\u001b[0;34m\u001b[0m\u001b[0m\n",
            "\u001b[0;31mNameError\u001b[0m: name 'fruits' is not defined"
          ]
        }
      ]
    },
    {
      "cell_type": "code",
      "source": [
        "#59\n",
        "fruits=['사과','배','오렌지','수박','참외']\n",
        "fruits.clear()\n",
        "print(fruits)"
      ],
      "metadata": {
        "colab": {
          "base_uri": "https://localhost:8080/"
        },
        "id": "TitZGG8iM4lo",
        "outputId": "85d6dfd5-b99a-4e63-a8e2-48d7333098ac"
      },
      "execution_count": null,
      "outputs": [
        {
          "output_type": "stream",
          "name": "stdout",
          "text": [
            "[]\n"
          ]
        }
      ]
    },
    {
      "cell_type": "code",
      "source": [
        "fruits=['사과''배','오렌지','수박','참외']\n",
        "del fruits[:]\n",
        "print(fruits)"
      ],
      "metadata": {
        "colab": {
          "base_uri": "https://localhost:8080/"
        },
        "id": "PwVIVg3vNCtL",
        "outputId": "699d98f5-fd2c-473d-9f27-579ba403de08"
      },
      "execution_count": null,
      "outputs": [
        {
          "output_type": "stream",
          "name": "stdout",
          "text": [
            "[]\n"
          ]
        }
      ]
    }
  ]
}