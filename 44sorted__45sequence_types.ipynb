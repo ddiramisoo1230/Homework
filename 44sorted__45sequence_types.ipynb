{
  "nbformat": 4,
  "nbformat_minor": 0,
  "metadata": {
    "colab": {
      "provenance": [],
      "authorship_tag": "ABX9TyPoO1i8e10nTei5pWfvVJY3",
      "include_colab_link": true
    },
    "kernelspec": {
      "name": "python3",
      "display_name": "Python 3"
    },
    "language_info": {
      "name": "python"
    }
  },
  "cells": [
    {
      "cell_type": "markdown",
      "metadata": {
        "id": "view-in-github",
        "colab_type": "text"
      },
      "source": [
        "<a href=\"https://colab.research.google.com/github/ddiramisoo1230/Homework/blob/main/44sorted__45sequence_types.ipynb\" target=\"_parent\"><img src=\"https://colab.research.google.com/assets/colab-badge.svg\" alt=\"Open In Colab\"/></a>"
      ]
    },
    {
      "cell_type": "code",
      "execution_count": null,
      "metadata": {
        "colab": {
          "base_uri": "https://localhost:8080/"
        },
        "id": "PNcqhAyz7iCU",
        "outputId": "b41c63d8-cedf-48dc-c411-88331f101693"
      },
      "outputs": [
        {
          "output_type": "stream",
          "name": "stdout",
          "text": [
            "[1, 8, 27, 39, 42, 44]\n",
            "[44, 42, 39, 27, 8, 1]\n",
            "[42, 1, 39, 27, 44, 8]\n"
          ]
        }
      ],
      "source": [
        "#44\n",
        "listData=[42,1,39,27,44,8]\n",
        "ret1=sorted(listData)\n",
        "ret2=sorted(listData,reverse=True)\n",
        "print(ret1)\n",
        "print(ret2)\n",
        "print(listData)"
      ]
    },
    {
      "cell_type": "code",
      "source": [
        "tupleData=('사과','배','오렌지','수박','참외')\n",
        "ret=sorted(tupleData)\n",
        "print(ret)"
      ],
      "metadata": {
        "colab": {
          "base_uri": "https://localhost:8080/"
        },
        "id": "ovzRbEi68LDq",
        "outputId": "8b152fb9-c5e3-4b10-97b8-5e0c358cc2c8"
      },
      "execution_count": null,
      "outputs": [
        {
          "output_type": "stream",
          "name": "stdout",
          "text": [
            "['배', '사과', '수박', '오렌지', '참외']\n"
          ]
        }
      ]
    },
    {
      "cell_type": "code",
      "source": [
        "strData='I love python!'\n",
        "ret=sorted(strData)\n",
        "print(ret)"
      ],
      "metadata": {
        "colab": {
          "base_uri": "https://localhost:8080/"
        },
        "id": "-6giUU978T9C",
        "outputId": "071a4a06-6dc4-4bc3-8988-2aceba7147af"
      },
      "execution_count": null,
      "outputs": [
        {
          "output_type": "stream",
          "name": "stdout",
          "text": [
            "[' ', ' ', '!', 'I', 'e', 'h', 'l', 'n', 'o', 'o', 'p', 't', 'v', 'y']\n"
          ]
        }
      ]
    },
    {
      "cell_type": "code",
      "source": [
        "population={'김씨':2834,'이씨':2288,'박씨':1889}\n",
        "ret=sorted(population)\n",
        "print(ret)"
      ],
      "metadata": {
        "colab": {
          "base_uri": "https://localhost:8080/"
        },
        "id": "v4vj7EXd8dfp",
        "outputId": "cf4b8671-2b8f-4165-becd-0ea5e266e116"
      },
      "execution_count": null,
      "outputs": [
        {
          "output_type": "stream",
          "name": "stdout",
          "text": [
            "['김씨', '박씨', '이씨']\n"
          ]
        }
      ]
    },
    {
      "cell_type": "code",
      "source": [
        "#45\n",
        "listData=[1,2,3,4,5]"
      ],
      "metadata": {
        "id": "AHGdPOWr8ucF"
      },
      "execution_count": null,
      "outputs": []
    },
    {
      "cell_type": "code",
      "source": [
        "tupleData=(1,2,3,4,5)"
      ],
      "metadata": {
        "id": "nHMkryUt8zFt"
      },
      "execution_count": null,
      "outputs": []
    },
    {
      "cell_type": "code",
      "source": [
        "strData1='010-1234-5678'\n",
        "strData2=\"사랑해요 파이썬!\"\n",
        "strData3='I love python!'"
      ],
      "metadata": {
        "id": "uxT-7oX482Kz"
      },
      "execution_count": null,
      "outputs": []
    },
    {
      "cell_type": "code",
      "source": [
        "bstr=b'Hello python!'"
      ],
      "metadata": {
        "id": "jhHpErHq9Hnc"
      },
      "execution_count": null,
      "outputs": []
    }
  ]
}