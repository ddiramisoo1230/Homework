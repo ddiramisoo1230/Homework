{
  "nbformat": 4,
  "nbformat_minor": 0,
  "metadata": {
    "colab": {
      "provenance": [],
      "authorship_tag": "ABX9TyPJRl8twTDBypHkbqkTK1Hm",
      "include_colab_link": true
    },
    "kernelspec": {
      "name": "python3",
      "display_name": "Python 3"
    },
    "language_info": {
      "name": "python"
    }
  },
  "cells": [
    {
      "cell_type": "markdown",
      "metadata": {
        "id": "view-in-github",
        "colab_type": "text"
      },
      "source": [
        "<a href=\"https://colab.research.google.com/github/ddiramisoo1230/Homework/blob/main/56list_i_x_57del_list_i.ipynb\" target=\"_parent\"><img src=\"https://colab.research.google.com/assets/colab-badge.svg\" alt=\"Open In Colab\"/></a>"
      ]
    },
    {
      "cell_type": "code",
      "execution_count": null,
      "metadata": {
        "colab": {
          "base_uri": "https://localhost:8080/"
        },
        "id": "UBtkFBSgJ-S7",
        "outputId": "4dcff464-07ba-4c2d-cd96-88decc5207d6"
      },
      "outputs": [
        {
          "output_type": "stream",
          "name": "stdout",
          "text": [
            "['태양', '수성', '금성', 'Earth', '화성', '목성', '토성', '천왕성', '해왕성']\n"
          ]
        }
      ],
      "source": [
        "#56\n",
        "solarsys=['태양','수성','금성','지구','화성','목성','토성','천왕성','해왕성']\n",
        "solarsys[3]='Earth'\n",
        "print(solarsys)"
      ]
    },
    {
      "cell_type": "code",
      "source": [
        "solarsys_ko=['태양','수성','금성','지구','화성','목성','토성','천왕성','해왕성']\n",
        "solarsys_en=['Sun','Mercury','Venus','Earth','Mars','Jupiter','Saturn','Uranus','Naptune']\n",
        "\n",
        "for i in range(len(solarsys_ko)):\n",
        "  solarsys_ko[i]=solarsys_en[i]\n",
        "\n",
        "print(solarsys_ko)"
      ],
      "metadata": {
        "colab": {
          "base_uri": "https://localhost:8080/"
        },
        "id": "mClJiutVKauq",
        "outputId": "6f84d295-6e46-47f8-abd4-649472c971d0"
      },
      "execution_count": null,
      "outputs": [
        {
          "output_type": "stream",
          "name": "stdout",
          "text": [
            "['Sun', 'Mercury', 'Venus', 'Earth', 'Mars', 'Jupiter', 'Saturn', 'Uranus', 'Naptune']\n"
          ]
        }
      ]
    },
    {
      "cell_type": "code",
      "source": [
        "#57\n",
        "fruits=['사과','배','오렌지','수박','참외']\n",
        "del fruits[1]\n",
        "print(fruits)\n",
        "del fruits[-1]\n",
        "print(fruits)"
      ],
      "metadata": {
        "colab": {
          "base_uri": "https://localhost:8080/"
        },
        "id": "4qUmVy3QLC91",
        "outputId": "2dfae0b6-b7d3-4a3c-c11d-8fb347478787"
      },
      "execution_count": null,
      "outputs": [
        {
          "output_type": "stream",
          "name": "stdout",
          "text": [
            "['사과', '오렌지', '수박', '참외']\n",
            "['사과', '오렌지', '수박']\n"
          ]
        }
      ]
    },
    {
      "cell_type": "code",
      "source": [
        "solarsys=['태양','수성','금성','지구','화성','소행성대','목성','토성']\n",
        "del solarsys[4:6]\n",
        "print(solarsys)"
      ],
      "metadata": {
        "colab": {
          "base_uri": "https://localhost:8080/"
        },
        "id": "2QfeZ8MNLQEN",
        "outputId": "f5229f18-7d58-4ea6-a207-b2651aef52f1"
      },
      "execution_count": null,
      "outputs": [
        {
          "output_type": "stream",
          "name": "stdout",
          "text": [
            "['태양', '수성', '금성', '지구', '목성', '토성']\n"
          ]
        }
      ]
    },
    {
      "cell_type": "code",
      "source": [
        "del solarsys[:]\n",
        "print(solarsys)"
      ],
      "metadata": {
        "colab": {
          "base_uri": "https://localhost:8080/"
        },
        "id": "XvgbC5I8Lbwb",
        "outputId": "0fb10748-7a7e-4014-d4d2-0eb6ef7bad14"
      },
      "execution_count": null,
      "outputs": [
        {
          "output_type": "stream",
          "name": "stdout",
          "text": [
            "[]\n"
          ]
        }
      ]
    },
    {
      "cell_type": "code",
      "source": [
        "solarsys=['태양','수성','금성','지구','화성','소행성대','목성','토성']\n",
        "if '소행성대' in solarsys:\n",
        "  idx=solarsys.index('소행성대')\n",
        "  del solarsys[idx]\n",
        "print(solarsys)"
      ],
      "metadata": {
        "colab": {
          "base_uri": "https://localhost:8080/"
        },
        "id": "bLJeT3yZLhnO",
        "outputId": "91ddad8f-5cb6-47d8-edbd-3b068c47e4f4"
      },
      "execution_count": null,
      "outputs": [
        {
          "output_type": "stream",
          "name": "stdout",
          "text": [
            "['태양', '수성', '금성', '지구', '화성', '목성', '토성']\n"
          ]
        }
      ]
    },
    {
      "cell_type": "code",
      "source": [
        "fruits=['사과','배','오렌지','수박','참외']\n",
        "del fruits\n",
        "print(fruits)"
      ],
      "metadata": {
        "colab": {
          "base_uri": "https://localhost:8080/",
          "height": 185
        },
        "id": "i7W3NAIhL8Iw",
        "outputId": "05ced518-38c6-4db7-a7fd-169735680828"
      },
      "execution_count": null,
      "outputs": [
        {
          "output_type": "error",
          "ename": "NameError",
          "evalue": "name 'fruits' is not defined",
          "traceback": [
            "\u001b[0;31m---------------------------------------------------------------------------\u001b[0m",
            "\u001b[0;31mNameError\u001b[0m                                 Traceback (most recent call last)",
            "\u001b[0;32m/tmp/ipython-input-3333588137.py\u001b[0m in \u001b[0;36m<cell line: 0>\u001b[0;34m()\u001b[0m\n\u001b[1;32m      1\u001b[0m \u001b[0mfruits\u001b[0m\u001b[0;34m=\u001b[0m\u001b[0;34m[\u001b[0m\u001b[0;34m'사과'\u001b[0m\u001b[0;34m,\u001b[0m\u001b[0;34m'배'\u001b[0m\u001b[0;34m,\u001b[0m\u001b[0;34m'오렌지'\u001b[0m\u001b[0;34m,\u001b[0m\u001b[0;34m'수박'\u001b[0m\u001b[0;34m,\u001b[0m\u001b[0;34m'참외'\u001b[0m\u001b[0;34m]\u001b[0m\u001b[0;34m\u001b[0m\u001b[0;34m\u001b[0m\u001b[0m\n\u001b[1;32m      2\u001b[0m \u001b[0;32mdel\u001b[0m \u001b[0mfruits\u001b[0m\u001b[0;34m\u001b[0m\u001b[0;34m\u001b[0m\u001b[0m\n\u001b[0;32m----> 3\u001b[0;31m \u001b[0mprint\u001b[0m\u001b[0;34m(\u001b[0m\u001b[0mfruits\u001b[0m\u001b[0;34m)\u001b[0m\u001b[0;34m\u001b[0m\u001b[0;34m\u001b[0m\u001b[0m\n\u001b[0m",
            "\u001b[0;31mNameError\u001b[0m: name 'fruits' is not defined"
          ]
        }
      ]
    }
  ]
}